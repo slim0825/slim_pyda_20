{
  "nbformat": 4,
  "nbformat_minor": 0,
  "metadata": {
    "kernelspec": {
      "display_name": "Python 3",
      "language": "python",
      "name": "python3"
    },
    "language_info": {
      "codemirror_mode": {
        "name": "ipython",
        "version": 3
      },
      "file_extension": ".py",
      "mimetype": "text/x-python",
      "name": "python",
      "nbconvert_exporter": "python",
      "pygments_lexer": "ipython3",
      "version": "3.6.4"
    },
    "colab": {
      "name": "Intro to NN 4 (HW)",
      "provenance": [],
      "collapsed_sections": []
    },
    "accelerator": "GPU"
  },
  "cells": [
    {
      "cell_type": "markdown",
      "metadata": {
        "collapsed": true,
        "id": "l4VAzKlG8aHj"
      },
      "source": [
        "## Neural Part Of Speech Tagging\n",
        "\n",
        "We're now going to solve the same problem of POS tagging with neural networks.\n",
        "<img src=https://i.stack.imgur.com/6pdIT.png width=320>\n",
        "\n",
        "From deep learning perspective, this is a task of predicting a sequence of outputs aligned to a sequence of inputs. There are several problems that match this formulation:\n",
        "* Part Of Speech Tagging -  an auxuliary task for many NLP problems\n",
        "* Named Entity Recognition - for chat bots and web crawlers\n",
        "* Protein structure prediction - for bioinformatics"
      ]
    },
    {
      "cell_type": "code",
      "metadata": {
        "id": "wnu9D3YZoH2e",
        "outputId": "8f6dff48-e350-4115-efcc-f2de51ae469d",
        "colab": {
          "base_uri": "https://localhost:8080/"
        }
      },
      "source": [
        "%tensorflow_version 1.x"
      ],
      "execution_count": 1,
      "outputs": [
        {
          "output_type": "stream",
          "name": "stdout",
          "text": [
            "TensorFlow 1.x selected.\n"
          ]
        }
      ]
    },
    {
      "cell_type": "code",
      "metadata": {
        "scrolled": true,
        "id": "yxFUBtb88aHq",
        "outputId": "32d7c19b-e4b1-45a9-97d9-4098243a7bcf",
        "colab": {
          "base_uri": "https://localhost:8080/"
        }
      },
      "source": [
        "import nltk\n",
        "import sys\n",
        "import numpy as np\n",
        "\n",
        "nltk.download('brown')\n",
        "nltk.download('universal_tagset')\n",
        "data = nltk.corpus.brown.tagged_sents(tagset='universal')\n",
        "all_tags = ['#EOS#','#UNK#','ADV', 'NOUN', 'ADP', 'PRON', 'DET', '.', 'PRT', 'VERB', 'X', 'NUM', 'CONJ', 'ADJ']\n",
        "\n",
        "data = np.array([ [(word.lower(),tag) for word,tag in sentence] for sentence in data ])"
      ],
      "execution_count": 20,
      "outputs": [
        {
          "output_type": "stream",
          "name": "stdout",
          "text": [
            "[nltk_data] Downloading package brown to /root/nltk_data...\n",
            "[nltk_data]   Package brown is already up-to-date!\n",
            "[nltk_data] Downloading package universal_tagset to /root/nltk_data...\n",
            "[nltk_data]   Package universal_tagset is already up-to-date!\n"
          ]
        },
        {
          "output_type": "stream",
          "name": "stderr",
          "text": [
            "/usr/local/lib/python3.7/dist-packages/ipykernel_launcher.py:10: VisibleDeprecationWarning: Creating an ndarray from ragged nested sequences (which is a list-or-tuple of lists-or-tuples-or ndarrays with different lengths or shapes) is deprecated. If you meant to do this, you must specify 'dtype=object' when creating the ndarray\n",
            "  # Remove the CWD from sys.path while we load stuff.\n"
          ]
        }
      ]
    },
    {
      "cell_type": "code",
      "metadata": {
        "id": "Bq_OXuD38aHs"
      },
      "source": [
        "from sklearn.model_selection import train_test_split\n",
        "train_data, test_data = train_test_split(data,test_size=0.25,random_state=42)"
      ],
      "execution_count": 21,
      "outputs": []
    },
    {
      "cell_type": "code",
      "metadata": {
        "id": "sAlXrDmU8aHs",
        "outputId": "57bd7ebf-4705-493a-935f-1d84e79debaa",
        "colab": {
          "base_uri": "https://localhost:8080/",
          "height": 157
        }
      },
      "source": [
        "from IPython.display import HTML, display\n",
        "def draw(sentence):\n",
        "    words,tags = zip(*sentence)\n",
        "    display(HTML('<table><tr>{tags}</tr>{words}<tr></table>'.format(\n",
        "                words = '<td>{}</td>'.format('</td><td>'.join(words)),\n",
        "                tags = '<td>{}</td>'.format('</td><td>'.join(tags)))))\n",
        "    \n",
        "    \n",
        "draw(data[11])\n",
        "draw(data[10])\n",
        "draw(data[7])"
      ],
      "execution_count": 22,
      "outputs": [
        {
          "output_type": "display_data",
          "data": {
            "text/html": [
              "<table><tr><td>NOUN</td><td>ADP</td><td>NOUN</td><td>NOUN</td><td>NOUN</td><td>NOUN</td><td>VERB</td><td>ADV</td><td>VERB</td><td>ADP</td><td>DET</td><td>ADJ</td><td>NOUN</td><td>.</td></tr><td>implementation</td><td>of</td><td>georgia's</td><td>automobile</td><td>title</td><td>law</td><td>was</td><td>also</td><td>recommended</td><td>by</td><td>the</td><td>outgoing</td><td>jury</td><td>.</td><tr></table>"
            ],
            "text/plain": [
              "<IPython.core.display.HTML object>"
            ]
          },
          "metadata": {}
        },
        {
          "output_type": "display_data",
          "data": {
            "text/html": [
              "<table><tr><td>PRON</td><td>VERB</td><td>ADP</td><td>DET</td><td>NOUN</td><td>.</td><td>VERB</td><td>NOUN</td><td>PRT</td><td>VERB</td><td>.</td><td>DET</td><td>NOUN</td><td>.</td></tr><td>it</td><td>urged</td><td>that</td><td>the</td><td>city</td><td>``</td><td>take</td><td>steps</td><td>to</td><td>remedy</td><td>''</td><td>this</td><td>problem</td><td>.</td><tr></table>"
            ],
            "text/plain": [
              "<IPython.core.display.HTML object>"
            ]
          },
          "metadata": {}
        },
        {
          "output_type": "display_data",
          "data": {
            "text/html": [
              "<table><tr><td>NOUN</td><td>VERB</td></tr><td>merger</td><td>proposed</td><tr></table>"
            ],
            "text/plain": [
              "<IPython.core.display.HTML object>"
            ]
          },
          "metadata": {}
        }
      ]
    },
    {
      "cell_type": "code",
      "source": [
        "train_data"
      ],
      "metadata": {
        "id": "9pbOqmmnySz9",
        "outputId": "3833a2c1-9ba8-47fd-c890-307bc14c19c4",
        "colab": {
          "base_uri": "https://localhost:8080/"
        }
      },
      "execution_count": 23,
      "outputs": [
        {
          "output_type": "execute_result",
          "data": {
            "text/plain": [
              "array([list([('the', 'DET'), ('impression', 'NOUN'), ('you', 'PRON'), ('get', 'VERB'), ('from', 'ADP'), ('carl', 'NOUN'), (\"sandburg's\", 'NOUN'), ('home', 'NOUN'), ('is', 'VERB'), ('one', 'NUM'), ('of', 'ADP'), ('laughter', 'NOUN'), ('and', 'CONJ'), ('happiness', 'NOUN'), (';', '.'), (';', '.')]),\n",
              "       list([('other', 'ADJ'), ('pigments', 'NOUN'), ('were', 'VERB'), ('mostly', 'ADV'), ('raw', 'ADJ'), ('umber', 'NOUN'), (',', '.'), ('some', 'DET'), ('burnt', 'VERB'), ('umber', 'NOUN'), (',', '.'), ('and', 'CONJ'), ('a', 'DET'), ('little', 'ADJ'), ('yellow', 'ADJ'), ('ochre', 'NOUN'), ('.', '.')]),\n",
              "       list([('that', 'DET'), ('was', 'VERB'), ('rob', 'NOUN'), ('roy', 'NOUN'), (',', '.'), ('who', 'PRON'), ('posed', 'VERB'), ('with', 'ADP'), ('mrs.', 'NOUN'), ('coolidge', 'NOUN'), ('for', 'ADP'), ('the', 'DET'), ('portrait', 'NOUN'), ('by', 'ADP'), ('howard', 'NOUN'), ('chandler', 'NOUN'), ('christy', 'NOUN'), ('.', '.')]),\n",
              "       ...,\n",
              "       list([('the', 'DET'), ('city', 'NOUN'), ('is', 'VERB'), ('not', 'ADV'), ('adequately', 'ADV'), ('compensated', 'VERB'), ('for', 'ADP'), ('the', 'DET'), ('services', 'NOUN'), ('covered', 'VERB'), ('by', 'ADP'), ('the', 'DET'), ('fees', 'NOUN'), (',', '.'), ('he', 'PRON'), ('said', 'VERB'), ('.', '.')]),\n",
              "       list([('you', 'PRON'), ('never', 'ADV'), ('are', 'VERB'), ('late', 'ADJ'), ('for', 'ADP'), ('work', 'NOUN'), ('and', 'CONJ'), ('seldom', 'ADV'), ('absent', 'ADJ'), ('.', '.')]),\n",
              "       list([('they', 'PRON'), ('had', 'VERB'), ('been', 'VERB'), ('kind', 'ADJ'), ('to', 'ADP'), ('us', 'PRON'), ('and', 'CONJ'), ('we', 'PRON'), ('were', 'VERB'), ('indebted', 'ADJ'), ('to', 'ADP'), ('them', 'PRON'), ('for', 'ADP'), ('one', 'NUM'), ('or', 'CONJ'), ('two', 'NUM'), ('pleasant', 'ADJ'), ('dinners', 'NOUN'), (',', '.'), ('and', 'CONJ'), ('for', 'ADP'), ('information', 'NOUN'), ('as', 'ADP'), ('to', 'ADP'), ('where', 'ADV'), ('to', 'PRT'), ('shop', 'VERB'), (',', '.'), ('which', 'DET'), ('dentist', 'NOUN'), (',', '.'), ('doctor', 'NOUN'), (',', '.'), ('plumber', 'NOUN'), (',', '.'), ('and', 'CONJ'), ('sitter', 'NOUN'), ('to', 'PRT'), ('call', 'VERB'), ('(', '.'), ('not', 'ADV'), ('that', 'ADP'), ('there', 'PRT'), ('was', 'VERB'), ('much', 'ADJ'), ('of', 'ADP'), ('a', 'DET'), ('choice', 'NOUN'), (',', '.'), ('since', 'ADP'), ('catatonia', 'NOUN'), ('was', 'VERB'), ('just', 'ADV'), ('a', 'DET'), ('village', 'NOUN'), (';', '.'), (';', '.')])],\n",
              "      dtype=object)"
            ]
          },
          "metadata": {},
          "execution_count": 23
        }
      ]
    },
    {
      "cell_type": "markdown",
      "metadata": {
        "id": "LAViiL2C8aHt"
      },
      "source": [
        "### Building vocabularies\n",
        "\n",
        "Just like before, we have to build a mapping from tokens to integer ids. This time around, our model operates on a word level, processing one word per RNN step. This means we'll have to deal with far larger vocabulary.\n",
        "\n",
        "Luckily for us, we only receive those words as input i.e. we don't have to predict them. This means we can have a large vocabulary for free by using word embeddings."
      ]
    },
    {
      "cell_type": "code",
      "metadata": {
        "collapsed": true,
        "id": "ZXK_k-mo8aHt",
        "outputId": "1032adef-0de9-4eb1-c22d-6a7dddfa9d8e",
        "colab": {
          "base_uri": "https://localhost:8080/"
        }
      },
      "source": [
        "from collections import Counter\n",
        "word_counts = Counter()\n",
        "for sentence in data:\n",
        "    words,tags = zip(*sentence)\n",
        "    word_counts.update(words)\n",
        "\n",
        "all_words = ['#EOS#','#UNK#'] + list(list(zip(*word_counts.most_common(10000)))[0])\n",
        "\n",
        "#let's measure what fraction of data words are in the dictionary\n",
        "print(\"Coverage = %.5f\" % (float(sum(word_counts[w] for w in all_words)) / sum(word_counts.values())))"
      ],
      "execution_count": 24,
      "outputs": [
        {
          "output_type": "stream",
          "name": "stdout",
          "text": [
            "Coverage = 0.92876\n"
          ]
        }
      ]
    },
    {
      "cell_type": "code",
      "metadata": {
        "collapsed": true,
        "id": "T0hee8L88aHt"
      },
      "source": [
        "from collections import defaultdict\n",
        "word_to_id = defaultdict(lambda:1, { word: i for i, word in enumerate(all_words) })\n",
        "tag_to_id = { tag: i for i, tag in enumerate(all_tags)}"
      ],
      "execution_count": 25,
      "outputs": []
    },
    {
      "cell_type": "markdown",
      "metadata": {
        "id": "RCmGbwpP8aHu"
      },
      "source": [
        "convert words and tags into fixed-size matrix"
      ]
    },
    {
      "cell_type": "code",
      "metadata": {
        "collapsed": true,
        "id": "X7kx6jWn8aHu"
      },
      "source": [
        "def to_matrix(lines, token_to_id, max_len=None, pad=0, dtype='int32', time_major=False):\n",
        "    \"\"\"Converts a list of names into rnn-digestable matrix with paddings added after the end\"\"\"\n",
        "    \n",
        "    max_len = max_len or max(map(len,lines))\n",
        "    matrix = np.empty([len(lines), max_len],dtype)\n",
        "    matrix.fill(pad)\n",
        "\n",
        "    for i in range(len(lines)):\n",
        "        line_ix = list(map(token_to_id.__getitem__,lines[i]))[:max_len]\n",
        "        matrix[i,:len(line_ix)] = line_ix\n",
        "\n",
        "    return matrix.T if time_major else matrix"
      ],
      "execution_count": 26,
      "outputs": []
    },
    {
      "cell_type": "code",
      "metadata": {
        "collapsed": true,
        "id": "BCaE-i5u8aHu",
        "outputId": "b12e5b4b-1dd6-47d5-aa08-d012f28c07f5",
        "colab": {
          "base_uri": "https://localhost:8080/"
        }
      },
      "source": [
        "batch_words, batch_tags = zip(*[zip(*sentence) for sentence in data[-3:]])\n",
        "\n",
        "print(\"Word ids:\")\n",
        "print(to_matrix(batch_words, word_to_id))\n",
        "print(\"Tag ids:\")\n",
        "print(to_matrix(batch_tags, tag_to_id))"
      ],
      "execution_count": 27,
      "outputs": [
        {
          "output_type": "stream",
          "name": "stdout",
          "text": [
            "Word ids:\n",
            "[[   2 3057    5    2 2238 1334 4238 2454    3    6   19   26 1070   69\n",
            "     8 2088    6    3    1    3  266   65  342    2    1    3    2  315\n",
            "     1    9   87  216 3322   69 1558    4    0    0    0    0    0    0\n",
            "     0    0    0    0    0    0    0    0    0    0    0]\n",
            " [  45   12    8  511 8419    6   60 3246   39    2    1    1    3    2\n",
            "   845    1    3    1    3   10 9910    2    1 3470    9   43    1    1\n",
            "     3    6    2 1046  385   73 4562    3    9    2    1    1 3250    3\n",
            "    12   10    2  861 5240   12    8 8936  121    1    4]\n",
            " [  33   64   26   12  445    7 7346    9    8 3337    3    1 2811    3\n",
            "     2  463  572    2    1    1 1649   12    1    4    0    0    0    0\n",
            "     0    0    0    0    0    0    0    0    0    0    0    0    0    0\n",
            "     0    0    0    0    0    0    0    0    0    0    0]]\n",
            "Tag ids:\n",
            "[[ 6  3  4  6  3  3  9  9  7 12  4  5  9  4  6  3 12  7  9  7  9  8  4  6\n",
            "   3  7  6 13  3  4  6  3  9  4  3  7  0  0  0  0  0  0  0  0  0  0  0  0\n",
            "   0  0  0  0  0]\n",
            " [ 5  9  6  9  3 12  6  3  7  6 13  3  7  6 13  3  7 13  7  5  9  6  3  3\n",
            "   4  6 13  3  7 12  6  3  6 13  3  7  4  6  3  9  3  7  9  4  6 13  3  9\n",
            "   6  3  2 13  7]\n",
            " [ 4  6  5  9 13  4  3  4  6 13  7 13  3  7  6  3  4  6 13  3  3  9  9  7\n",
            "   0  0  0  0  0  0  0  0  0  0  0  0  0  0  0  0  0  0  0  0  0  0  0  0\n",
            "   0  0  0  0  0]]\n"
          ]
        }
      ]
    },
    {
      "cell_type": "markdown",
      "metadata": {
        "collapsed": true,
        "id": "_oK_i5Xa8aHv"
      },
      "source": [
        "### Build model\n",
        "\n",
        "Unlike our previous lab, this time we'll focus on a high-level keras interface to recurrent neural networks. It is as simple as you can get with RNN, allbeit somewhat constraining for complex tasks like seq2seq.\n",
        "\n",
        "By default, all keras RNNs apply to a whole sequence of inputs and produce a sequence of hidden states `(return_sequences=True` or just the last hidden state `(return_sequences=False)`. All the recurrence is happening under the hood.\n",
        "\n",
        "At the top of our model we need to apply a Dense layer to each time-step independently. As of now, by default keras.layers.Dense would apply once to all time-steps concatenated. We use __keras.layers.TimeDistributed__ to modify Dense layer so that it would apply across both batch and time axes."
      ]
    },
    {
      "cell_type": "code",
      "metadata": {
        "id": "OQeb8d5j8aHv"
      },
      "source": [
        "import keras\n",
        "import keras.layers as L\n",
        "\n",
        "model = keras.models.Sequential()\n",
        "model.add(L.InputLayer([None],dtype='int32'))\n",
        "model.add(L.Embedding(len(all_words),50))\n",
        "model.add(L.SimpleRNN(64,return_sequences=True))\n",
        "\n",
        "#add top layer that predicts tag probabilities\n",
        "stepwise_dense = L.Dense(len(all_tags),activation='softmax')\n",
        "stepwise_dense = L.TimeDistributed(stepwise_dense)\n",
        "model.add(stepwise_dense)"
      ],
      "execution_count": 28,
      "outputs": []
    },
    {
      "cell_type": "markdown",
      "metadata": {
        "id": "lQbJqM2n8aHv"
      },
      "source": [
        "__Training:__ in this case we don't want to prepare the whole training dataset in advance. The main cause is that the length of every batch depends on the maximum sentence length within the batch. This leaves us two options: use custom training code as in previous seminar or use generators.\n",
        "\n",
        "Keras models have a __`model.fit_generator`__ method that accepts a python generator yielding one batch at a time. But first we need to implement such generator:"
      ]
    },
    {
      "cell_type": "code",
      "metadata": {
        "collapsed": true,
        "id": "kpeMsDi18aHw"
      },
      "source": [
        "from keras.utils.np_utils import to_categorical\n",
        "BATCH_SIZE=32\n",
        "def generate_batches(sentences,batch_size=BATCH_SIZE,max_len=None,pad=0):\n",
        "    assert isinstance(sentences,np.ndarray),\"Make sure sentences is q numpy array\"\n",
        "    \n",
        "    while True:\n",
        "        indices = np.random.permutation(np.arange(len(sentences)))\n",
        "        for start in range(0,len(indices)-1,batch_size):\n",
        "            batch_indices = indices[start:start+batch_size]\n",
        "            batch_words,batch_tags = [],[]\n",
        "            for sent in sentences[batch_indices]:\n",
        "                words,tags = zip(*sent)\n",
        "                batch_words.append(words)\n",
        "                batch_tags.append(tags)\n",
        "\n",
        "            batch_words = to_matrix(batch_words,word_to_id,max_len,pad)\n",
        "            batch_tags = to_matrix(batch_tags,tag_to_id,max_len,pad)\n",
        "\n",
        "            batch_tags_1hot = to_categorical(batch_tags,len(all_tags)).reshape(batch_tags.shape+(-1,))\n",
        "            yield batch_words,batch_tags_1hot"
      ],
      "execution_count": 29,
      "outputs": []
    },
    {
      "cell_type": "markdown",
      "metadata": {
        "id": "zYoR9vgn8aHw"
      },
      "source": [
        "__Callbacks:__ Another thing we need is to measure model performance. The tricky part is not to count accuracy after sentence ends (on padding) and making sure we count all the validation data exactly once.\n",
        "\n",
        "While it isn't impossible to persuade Keras to do all of that, we may as well write our own callback that does that.\n",
        "Keras callbacks allow you to write a custom code to be ran once every epoch or every minibatch. We'll define one via LambdaCallback"
      ]
    },
    {
      "cell_type": "code",
      "metadata": {
        "collapsed": true,
        "id": "CC8woNtV8aHx"
      },
      "source": [
        "def compute_test_accuracy(model):\n",
        "    test_words,test_tags = zip(*[zip(*sentence) for sentence in test_data])\n",
        "    test_words,test_tags = to_matrix(test_words,word_to_id),to_matrix(test_tags,tag_to_id)\n",
        "\n",
        "    #predict tag probabilities of shape [batch,time,n_tags]\n",
        "    predicted_tag_probabilities = model.predict(test_words,verbose=1)\n",
        "    predicted_tags = predicted_tag_probabilities.argmax(axis=-1)\n",
        "\n",
        "    #compute accurary excluding padding\n",
        "    numerator = np.sum(np.logical_and((predicted_tags == test_tags),(test_words != 0)))\n",
        "    denominator = np.sum(test_words != 0)\n",
        "    return float(numerator)/denominator\n",
        "\n",
        "\n",
        "class EvaluateAccuracy(keras.callbacks.Callback):\n",
        "    def on_epoch_end(self,epoch,logs=None):\n",
        "        sys.stdout.flush()\n",
        "        print(\"\\nMeasuring validation accuracy...\")\n",
        "        acc = compute_test_accuracy(self.model)\n",
        "        print(\"\\nValidation accuracy: %.5f\\n\"%acc)\n",
        "        sys.stdout.flush()"
      ],
      "execution_count": 30,
      "outputs": []
    },
    {
      "cell_type": "code",
      "metadata": {
        "collapsed": true,
        "id": "5eJGEWu58aHx",
        "outputId": "9915fa9c-118f-4486-f5bc-c4fd53b5ad9b",
        "colab": {
          "base_uri": "https://localhost:8080/"
        }
      },
      "source": [
        "model.compile('adam','categorical_crossentropy')\n",
        "\n",
        "model.fit_generator(generate_batches(train_data),len(train_data)/BATCH_SIZE,\n",
        "                    callbacks=[EvaluateAccuracy()], epochs=5,)"
      ],
      "execution_count": 31,
      "outputs": [
        {
          "output_type": "stream",
          "name": "stdout",
          "text": [
            "Epoch 1/5\n",
            "1344/1343 [==============================] - 45s 33ms/step - loss: 0.2408\n",
            "\n",
            "Measuring validation accuracy...\n",
            "14335/14335 [==============================] - 7s 500us/step\n",
            "\n",
            "Validation accuracy: 0.94101\n",
            "\n",
            "Epoch 2/5\n",
            "1344/1343 [==============================] - 45s 34ms/step - loss: 0.0573\n",
            "\n",
            "Measuring validation accuracy...\n",
            "14335/14335 [==============================] - 7s 481us/step\n",
            "\n",
            "Validation accuracy: 0.94440\n",
            "\n",
            "Epoch 3/5\n",
            "1344/1343 [==============================] - 44s 33ms/step - loss: 0.0515\n",
            "\n",
            "Measuring validation accuracy...\n",
            "14335/14335 [==============================] - 7s 489us/step\n",
            "\n",
            "Validation accuracy: 0.94589\n",
            "\n",
            "Epoch 4/5\n",
            "1344/1343 [==============================] - 44s 33ms/step - loss: 0.0467\n",
            "\n",
            "Measuring validation accuracy...\n",
            "14335/14335 [==============================] - 7s 484us/step\n",
            "\n",
            "Validation accuracy: 0.94642\n",
            "\n",
            "Epoch 5/5\n",
            "1344/1343 [==============================] - 44s 33ms/step - loss: 0.0428\n",
            "\n",
            "Measuring validation accuracy...\n",
            "14335/14335 [==============================] - 7s 473us/step\n",
            "\n",
            "Validation accuracy: 0.94470\n",
            "\n"
          ]
        },
        {
          "output_type": "execute_result",
          "data": {
            "text/plain": [
              "<keras.callbacks.callbacks.History at 0x7f5416cadb10>"
            ]
          },
          "metadata": {},
          "execution_count": 31
        }
      ]
    },
    {
      "cell_type": "markdown",
      "metadata": {
        "id": "TTN7C34V8aHy"
      },
      "source": [
        "Measure final accuracy on the whole test set."
      ]
    },
    {
      "cell_type": "code",
      "metadata": {
        "collapsed": true,
        "id": "tHgxnYB68aHy",
        "outputId": "3aba9d8f-6777-4ce7-cbcc-681c185cafa2",
        "colab": {
          "base_uri": "https://localhost:8080/"
        }
      },
      "source": [
        "acc = compute_test_accuracy(model)\n",
        "print(\"Final accuracy: %.5f\"%acc)\n",
        "\n",
        "assert acc>0.94, \"Keras has gone on a rampage again, please contact course staff.\""
      ],
      "execution_count": 32,
      "outputs": [
        {
          "output_type": "stream",
          "name": "stdout",
          "text": [
            "14335/14335 [==============================] - 7s 506us/step\n",
            "Final accuracy: 0.94470\n"
          ]
        }
      ]
    },
    {
      "cell_type": "markdown",
      "metadata": {
        "id": "5L5Prr4I8aHy"
      },
      "source": [
        "### Going bidirectional\n",
        "\n",
        "Since we're analyzing a full sequence, it's legal for us to look into future data.\n",
        "\n",
        "A simple way to achieve that is to go both directions at once, making a __bidirectional RNN__.\n",
        "\n",
        "In Keras you can achieve that both manually (using two LSTMs and Concatenate) and by using __`keras.layers.Bidirectional`__. \n",
        "\n",
        "This one works just as `TimeDistributed` we saw before: you wrap it around a recurrent layer (SimpleRNN now and LSTM/GRU later) and it actually creates two layers under the hood.\n",
        "\n",
        "Your first task is to use such a layer our POS-tagger."
      ]
    },
    {
      "cell_type": "code",
      "metadata": {
        "collapsed": true,
        "id": "xWfCrbh-8aHy"
      },
      "source": [
        "#Define a model that utilizes bidirectional SimpleRNN\n",
        "modelx = keras.models.Sequential()\n",
        "modelx.add(L.InputLayer([None],dtype='int32'))\n",
        "modelx.add(L.Embedding(len(all_words),50))\n",
        "modelx.add(L.Bidirectional(L.SimpleRNN(64,return_sequences=True)))\n",
        "\n",
        "stepwise_dense_x = L.Dense(len(all_tags),activation='softmax')\n",
        "stepwise_dense_x = L.TimeDistributed(stepwise_dense_x)\n",
        "modelx.add(stepwise_dense_x)"
      ],
      "execution_count": 33,
      "outputs": []
    },
    {
      "cell_type": "code",
      "metadata": {
        "collapsed": true,
        "id": "Ort64W348aHz",
        "outputId": "2c76b031-2986-4d5c-ca09-182d99125f08",
        "colab": {
          "base_uri": "https://localhost:8080/"
        }
      },
      "source": [
        "modelx.compile('adam','categorical_crossentropy')\n",
        "\n",
        "modelx.fit_generator(generate_batches(train_data),len(train_data)/BATCH_SIZE,\n",
        "                    callbacks=[EvaluateAccuracy()], epochs=5,)"
      ],
      "execution_count": 34,
      "outputs": [
        {
          "output_type": "stream",
          "name": "stdout",
          "text": [
            "Epoch 1/5\n",
            "1344/1343 [==============================] - 79s 59ms/step - loss: 0.1906\n",
            "\n",
            "Measuring validation accuracy...\n",
            "14335/14335 [==============================] - 13s 890us/step\n",
            "\n",
            "Validation accuracy: 0.95685\n",
            "\n",
            "Epoch 2/5\n",
            "1344/1343 [==============================] - 79s 59ms/step - loss: 0.0420\n",
            "\n",
            "Measuring validation accuracy...\n",
            "14335/14335 [==============================] - 12s 870us/step\n",
            "\n",
            "Validation accuracy: 0.96091\n",
            "\n",
            "Epoch 3/5\n",
            "1344/1343 [==============================] - 78s 58ms/step - loss: 0.0348\n",
            "\n",
            "Measuring validation accuracy...\n",
            "14335/14335 [==============================] - 12s 865us/step\n",
            "\n",
            "Validation accuracy: 0.96244\n",
            "\n",
            "Epoch 4/5\n",
            "1344/1343 [==============================] - 78s 58ms/step - loss: 0.0297\n",
            "\n",
            "Measuring validation accuracy...\n",
            "14335/14335 [==============================] - 12s 862us/step\n",
            "\n",
            "Validation accuracy: 0.96176\n",
            "\n",
            "Epoch 5/5\n",
            "1344/1343 [==============================] - 78s 58ms/step - loss: 0.0253\n",
            "\n",
            "Measuring validation accuracy...\n",
            "14335/14335 [==============================] - 12s 850us/step\n",
            "\n",
            "Validation accuracy: 0.96198\n",
            "\n"
          ]
        },
        {
          "output_type": "execute_result",
          "data": {
            "text/plain": [
              "<keras.callbacks.callbacks.History at 0x7f541947dc50>"
            ]
          },
          "metadata": {},
          "execution_count": 34
        }
      ]
    },
    {
      "cell_type": "code",
      "metadata": {
        "collapsed": true,
        "id": "iWHSkF648aHz",
        "outputId": "0eb07190-1fd0-451f-ed79-308b6d8025d4",
        "colab": {
          "base_uri": "https://localhost:8080/"
        }
      },
      "source": [
        "acc = compute_test_accuracy(modelx)\n",
        "print(\"\\nFinal accuracy: %.5f\"%acc)\n",
        "\n",
        "assert acc>0.96, \"Bidirectional RNNs are better than this!\"\n",
        "print(\"Well done!\")"
      ],
      "execution_count": 36,
      "outputs": [
        {
          "output_type": "stream",
          "name": "stdout",
          "text": [
            "14335/14335 [==============================] - 12s 846us/step\n",
            "\n",
            "Final accuracy: 0.96198\n",
            "Well done!\n"
          ]
        }
      ]
    },
    {
      "cell_type": "markdown",
      "metadata": {
        "id": "VW_nFppS8aH0"
      },
      "source": [
        "Task I: Structured loss functions (more bonus points)\n",
        "\n",
        "Since we're tagging the whole sequence at once, we might as well train our network to do so. Remember linear CRF from the lecture? You can also use it as a loss function for your RNN\n",
        "\n",
        "\n",
        "  * There's more than one way to do so, but we'd recommend starting with [Conditional Random Fields](http://blog.echen.me/2012/01/03/introduction-to-conditional-random-fields/)\n",
        "  * You can plug CRF as a loss function and still train by backprop. There's even some neat tensorflow [implementation](https://www.tensorflow.org/addons/api_docs/python/tfa/layers/CRF) for you.\n",
        "  * Alternatively, you can condition your model on previous tags (make it autoregressive) and perform __beam search__ over that model."
      ]
    },
    {
      "cell_type": "code",
      "metadata": {
        "id": "uXEj1Nm98aH0",
        "outputId": "1223a069-af55-406e-a1f8-b08f2265ff85",
        "colab": {
          "base_uri": "https://localhost:8080/"
        }
      },
      "source": [
        "!sudo pip install git+https://www.github.com/keras-team/keras-contrib.git"
      ],
      "execution_count": 38,
      "outputs": [
        {
          "output_type": "stream",
          "name": "stdout",
          "text": [
            "Collecting git+https://www.github.com/keras-team/keras-contrib.git\n",
            "  Cloning https://www.github.com/keras-team/keras-contrib.git to /tmp/pip-req-build-z3vvglfw\n",
            "  Running command git clone -q https://www.github.com/keras-team/keras-contrib.git /tmp/pip-req-build-z3vvglfw\n",
            "Requirement already satisfied: keras in /usr/local/lib/python3.7/dist-packages (from keras-contrib==2.0.8) (2.7.0)\n",
            "Building wheels for collected packages: keras-contrib\n",
            "  Building wheel for keras-contrib (setup.py) ... \u001b[?25l\u001b[?25hdone\n",
            "  Created wheel for keras-contrib: filename=keras_contrib-2.0.8-py3-none-any.whl size=101077 sha256=d08bf0b74f85a74a9b7f753fa93420afc5c5aea9de562ae402f1d0a4d50cd670\n",
            "  Stored in directory: /tmp/pip-ephem-wheel-cache-ozxy8x5r/wheels/bb/1f/f2/b57495012683b6b20bbae94a3915ec79753111452d79886abc\n",
            "Successfully built keras-contrib\n",
            "Installing collected packages: keras-contrib\n",
            "Successfully installed keras-contrib-2.0.8\n"
          ]
        }
      ]
    },
    {
      "cell_type": "code",
      "source": [
        "#Bidirecional LSTM  + crf\n",
        "from keras_contrib.layers import CRF\n",
        "from keras_contrib.losses import crf_loss\n",
        "from keras_contrib.metrics import crf_viterbi_accuracy\n",
        "\n",
        "modelx_lstm = keras.models.Sequential()\n",
        "modelx_lstm.add(L.InputLayer([None],dtype='int32'))\n",
        "modelx_lstm.add(L.Embedding(len(all_words),50))\n",
        "modelx_lstm.add(L.Bidirectional(L.LSTM(64,return_sequences=True)))\n",
        "\n",
        "stepwise_dense_x_lstm = L.Dense(len(all_tags),activation='softmax')\n",
        "stepwise_dense_x_lstm = L.TimeDistributed(stepwise_dense_x_lstm)\n",
        "modelx_lstm.add(stepwise_dense_x_lstm)\n",
        "crf = CRF(len(tag_to_id))\n",
        "modelx_lstm.add(crf)\n",
        "modelx_lstm.compile('adam', loss = crf_loss, metrics = [crf_viterbi_accuracy])\n",
        "\n",
        "\n",
        "modelx_lstm.fit_generator(generate_batches(train_data),len(train_data)/BATCH_SIZE,\n",
        "                    callbacks=[EvaluateAccuracy()], epochs=5,)"
      ],
      "metadata": {
        "id": "-27oA9nc67_V",
        "outputId": "cad1a202-eefa-4aac-f9b9-0bfcb65baf02",
        "colab": {
          "base_uri": "https://localhost:8080/"
        }
      },
      "execution_count": 39,
      "outputs": [
        {
          "output_type": "stream",
          "name": "stdout",
          "text": [
            "Epoch 1/5\n",
            "1344/1343 [==============================] - 249s 185ms/step - loss: 1.0799 - crf_viterbi_accuracy: 0.6209\n",
            "\n",
            "Measuring validation accuracy...\n",
            "14335/14335 [==============================] - 76s 5ms/step\n",
            "\n",
            "Validation accuracy: 0.27343\n",
            "\n",
            "Epoch 2/5\n",
            "1344/1343 [==============================] - 248s 184ms/step - loss: 0.4458 - crf_viterbi_accuracy: 0.8257\n",
            "\n",
            "Measuring validation accuracy...\n",
            "14335/14335 [==============================] - 76s 5ms/step\n",
            "\n",
            "Validation accuracy: 0.59654\n",
            "\n",
            "Epoch 3/5\n",
            "1344/1343 [==============================] - 244s 182ms/step - loss: 0.3468 - crf_viterbi_accuracy: 0.8536\n",
            "\n",
            "Measuring validation accuracy...\n",
            "14335/14335 [==============================] - 76s 5ms/step\n",
            "\n",
            "Validation accuracy: 0.63291\n",
            "\n",
            "Epoch 4/5\n",
            "1344/1343 [==============================] - 248s 185ms/step - loss: 0.2943 - crf_viterbi_accuracy: 0.8754\n",
            "\n",
            "Measuring validation accuracy...\n",
            "14335/14335 [==============================] - 77s 5ms/step\n",
            "\n",
            "Validation accuracy: 0.68801\n",
            "\n",
            "Epoch 5/5\n",
            "1344/1343 [==============================] - 247s 184ms/step - loss: 0.2540 - crf_viterbi_accuracy: 0.8895\n",
            "\n",
            "Measuring validation accuracy...\n",
            "14335/14335 [==============================] - 75s 5ms/step\n",
            "\n",
            "Validation accuracy: 0.71995\n",
            "\n"
          ]
        },
        {
          "output_type": "execute_result",
          "data": {
            "text/plain": [
              "<keras.callbacks.callbacks.History at 0x7f541864e0d0>"
            ]
          },
          "metadata": {},
          "execution_count": 39
        }
      ]
    },
    {
      "cell_type": "markdown",
      "metadata": {
        "id": "AG_wuMVf8aH0"
      },
      "source": [
        "\n",
        "#### Some tips\n",
        "Here there are a few more tips on how to improve training that are a bit trickier to impliment. We strongly suggest that you try them _after_ you've got a good initial model.\n",
        "* __Use pre-trained embeddings__: you can use pre-trained weights from [there](http://ahogrammer.com/2017/01/20/the-list-of-pretrained-word-embeddings/) to kickstart your Embedding layer.\n",
        "  * Embedding layer has a matrix W (layer.W) which contains word embeddings for each word in the dictionary. You can just overwrite them with tf.assign.\n",
        "  * When using pre-trained embeddings, pay attention to the fact that model's dictionary is different from your own.\n",
        "  * You may want to switch trainable=False for embedding layer in first few epochs as in regular fine-tuning.  \n",
        "* __Go beyond SimpleRNN__: there's `keras.layers.LSTM` and `keras.layers.GRU`\n",
        "  * If you want to use a custom recurrent Cell, read [this](https://keras.io/layers/recurrent/#rnn)\n",
        "  * You can also use 1D Convolutions (`keras.layers.Conv1D`). They are often as good as recurrent layers but with less overfitting.\n",
        "* __Stack more layers__: if there is a common motif to this course it's about stacking layers\n",
        "  * You can just add recurrent and 1dconv layers on top of one another and keras will understand it\n",
        "  * Just remember that bigger networks may need more epochs to train\n",
        "* __Regularization__: you can apply dropouts as usual but also in an RNN-specific way\n",
        "  * `keras.layers.Dropout` works inbetween RNN layers\n",
        "  * Recurrent layers also have `recurrent_dropout` parameter\n",
        "* __Gradient clipping__: If your training isn't as stable as you'd like, set `clipnorm` in your optimizer.\n",
        "  * Which is to say, it's a good idea to watch over your loss curve at each minibatch. Try tensorboard callback or something similar.\n",
        "* __Word Dropout__: tl;dr randomly replace words with UNK during training. \n",
        "  * This can also simulate increased amount of unknown words in the test set\n",
        "* __Larger vocabulary__: You can obtain greater performance by expanding your model's input dictionary from 5000 to up to every single word!\n",
        "  * Just make sure your model doesn't overfit due to so many parameters.\n",
        "  * Combined with regularizers or pre-trained word-vectors this could be really good cuz right now our model is blind to >5% of words.  \n",
        "* __More efficient batching__: right now TF spends a lot of time iterating over \"0\"s\n",
        "  * This happens because batch is always padded to the length of a longest sentence\n",
        "  * You can speed things up by pre-generating batches of similar lengths and feeding it with randomly chosen pre-generated batch.\n",
        "  * This technically breaks the i.i.d. assumption, but it works unless you come up with some insane rnn architectures.\n",
        "* __The most important advice__: don't cram in everything at once!\n",
        "  * If you stuff in a lot of modiffications, some of them almost inevitably gonna be detrimental and you'll never know which of them are.\n",
        "  * Try to instead go in small iterations and record experiment results to guide further search.\n",
        "    \n",
        "Good hunting!"
      ]
    },
    {
      "cell_type": "code",
      "metadata": {
        "id": "TF1T00yr8RvM"
      },
      "source": [
        "model = keras.models.Sequential()\n",
        "model.add(L.InputLayer([None],dtype='int32'))\n",
        "model.add(L.Embedding(len(all_words),50))\n",
        "model.add(L.Bidirectional(L.LSTM(64, dropout=0.25, \n",
        "                           recurrent_dropout=0.25, return_sequences=True)))\n",
        "model.add(L.LSTM(128, dropout=0.25, \n",
        "                           recurrent_dropout=0.25, return_sequences=True))\n",
        "\n",
        "stepwise_dense = L.Dense(len(all_tags),activation='relu')\n",
        "stepwise_dense = L.TimeDistributed(stepwise_dense)\n",
        "model.add(stepwise_dense)\n",
        "\n",
        "crf = CRF(len(all_tags))\n",
        "model.add(crf)"
      ],
      "execution_count": 40,
      "outputs": []
    },
    {
      "cell_type": "code",
      "source": [
        "model.compile('adam', loss=crf.loss_function)\n",
        "\n",
        "\n",
        "model.fit_generator(generate_batches(train_data),len(train_data)/BATCH_SIZE,\n",
        "                    callbacks=[EvaluateAccuracy()], epochs=5,) "
      ],
      "metadata": {
        "id": "PFwhxabGFItP",
        "outputId": "b93b7ac5-7cea-4fea-b0b8-b067c2ee61d1",
        "colab": {
          "base_uri": "https://localhost:8080/"
        }
      },
      "execution_count": 41,
      "outputs": [
        {
          "output_type": "stream",
          "name": "stderr",
          "text": [
            "/usr/local/lib/python3.7/dist-packages/keras_contrib/layers/crf.py:346: UserWarning: CRF.loss_function is deprecated and it might be removed in the future. Please use losses.crf_loss instead.\n",
            "  warnings.warn('CRF.loss_function is deprecated '\n"
          ]
        },
        {
          "output_type": "stream",
          "name": "stdout",
          "text": [
            "Epoch 1/5\n",
            "1344/1343 [==============================] - 284s 212ms/step - loss: 0.3326\n",
            "\n",
            "Measuring validation accuracy...\n",
            "14335/14335 [==============================] - 96s 7ms/step\n",
            "\n",
            "Validation accuracy: 0.94059\n",
            "\n",
            "Epoch 2/5\n",
            "1344/1343 [==============================] - 282s 210ms/step - loss: 0.0562\n",
            "\n",
            "Measuring validation accuracy...\n",
            "14335/14335 [==============================] - 95s 7ms/step\n",
            "\n",
            "Validation accuracy: 0.95108\n",
            "\n",
            "Epoch 3/5\n",
            "1344/1343 [==============================] - 280s 208ms/step - loss: 0.0259\n",
            "\n",
            "Measuring validation accuracy...\n",
            "14335/14335 [==============================] - 94s 7ms/step\n",
            "\n",
            "Validation accuracy: 0.95579\n",
            "\n",
            "Epoch 4/5\n",
            "1344/1343 [==============================] - 279s 207ms/step - loss: -0.0022\n",
            "\n",
            "Measuring validation accuracy...\n",
            "14335/14335 [==============================] - 95s 7ms/step\n",
            "\n",
            "Validation accuracy: 0.95824\n",
            "\n",
            "Epoch 5/5\n",
            "1344/1343 [==============================] - 281s 209ms/step - loss: -0.0302\n",
            "\n",
            "Measuring validation accuracy...\n",
            "14335/14335 [==============================] - 96s 7ms/step\n",
            "\n",
            "Validation accuracy: 0.96011\n",
            "\n"
          ]
        },
        {
          "output_type": "execute_result",
          "data": {
            "text/plain": [
              "<keras.callbacks.callbacks.History at 0x7f54143ec3d0>"
            ]
          },
          "metadata": {},
          "execution_count": 41
        }
      ]
    },
    {
      "cell_type": "code",
      "source": [
        "acc = compute_test_accuracy(model)\n",
        "print(\"\\nFinal accuracy: %.5f\"%acc)"
      ],
      "metadata": {
        "id": "kPaGuCV2Mjuk",
        "outputId": "7edfe603-4040-48a1-fdfa-57e6fe2b6230",
        "colab": {
          "base_uri": "https://localhost:8080/"
        }
      },
      "execution_count": 42,
      "outputs": [
        {
          "output_type": "stream",
          "name": "stdout",
          "text": [
            "14335/14335 [==============================] - 96s 7ms/step\n",
            "\n",
            "Final accuracy: 0.96011\n"
          ]
        }
      ]
    }
  ]
}