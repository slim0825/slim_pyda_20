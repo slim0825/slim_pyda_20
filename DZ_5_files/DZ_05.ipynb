{
 "cells": [
  {
   "cell_type": "code",
   "execution_count": 161,
   "metadata": {},
   "outputs": [],
   "source": [
    "import json"
   ]
  },
  {
   "cell_type": "code",
   "execution_count": 164,
   "metadata": {},
   "outputs": [
    {
     "name": "stdout",
     "output_type": "stream",
     "text": [
      "('1840e0b9d4', 'Продукты')\n",
      "('4e4f90fcfb', 'Электроника')\n",
      "('afea8d72fc', 'Электроника')\n",
      "('373a6055fe', 'Бытовая техника')\n",
      "('9b2ab046f3', 'Электроника')\n",
      "('9f39d307c3', 'Электроника')\n",
      "('44edeffc91', 'Продукты')\n"
     ]
    }
   ],
   "source": [
    "def get_purchases(log_):\n",
    "    purchases = {}\n",
    "    with open(log_, encoding = 'utf-8') as purchase_log:\n",
    "        purchase_log.readline()\n",
    "        for line in purchase_log:\n",
    "            dict_ = json.loads(line)\n",
    "            purchases[dict_['user_id']] = dict_['category']\n",
    "    return purchases\n",
    "\n",
    "purchases = get_purchases('purchase_log.txt')\n",
    "\n",
    "for i, string in enumerate(purchases.items()):\n",
    "    print(string)\n",
    "    if i > 5:\n",
    "        break"
   ]
  },
  {
   "cell_type": "code",
   "execution_count": 151,
   "metadata": {},
   "outputs": [],
   "source": [
    "with open('visit_log.csv') as visit:\n",
    "    with open('funnel.csv', 'w') as funnel:\n",
    "        visit.readline()\n",
    "        funnel.write('user_id,source,category\\n')\n",
    "        for line in visit:\n",
    "            line = line.strip().split(',')\n",
    "            if line[0] in purchases:\n",
    "                funnel.write(f'{line[0]}, {line[1]}, {purchases[line[0]]}\\n')"
   ]
  },
  {
   "cell_type": "code",
   "execution_count": 166,
   "metadata": {},
   "outputs": [
    {
     "name": "stdout",
     "output_type": "stream",
     "text": [
      "user_id,source,category\n",
      "1840e0b9d4, other, Продукты\n",
      "4e4f90fcfb, context, Электроника\n",
      "afea8d72fc, other, Электроника\n",
      "2824221f38, email, Продукты\n",
      "373a6055fe, other, Бытовая техника\n",
      "9b2ab046f3, other, Электроника\n"
     ]
    }
   ],
   "source": [
    "funnel = open('funnel.csv')\n",
    "for i, line in enumerate(funnel):\n",
    "    print(line.strip())\n",
    "    if i > 5:\n",
    "        break"
   ]
  }
 ],
 "metadata": {
  "kernelspec": {
   "display_name": "Python 3",
   "language": "python",
   "name": "python3"
  },
  "language_info": {
   "codemirror_mode": {
    "name": "ipython",
    "version": 3
   },
   "file_extension": ".py",
   "mimetype": "text/x-python",
   "name": "python",
   "nbconvert_exporter": "python",
   "pygments_lexer": "ipython3",
   "version": "3.8.5"
  }
 },
 "nbformat": 4,
 "nbformat_minor": 4
}
