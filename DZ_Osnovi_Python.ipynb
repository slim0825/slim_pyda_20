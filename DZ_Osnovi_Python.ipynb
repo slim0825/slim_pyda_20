{
 "cells": [
  {
   "cell_type": "code",
   "execution_count": 35,
   "metadata": {},
   "outputs": [
    {
     "name": "stdout",
     "output_type": "stream",
     "text": [
      "phrase_1 длиннее phrase_2\n"
     ]
    }
   ],
   "source": [
    "# Задание 1.1\n",
    "phrase_1 = 'Насколько проще было бы писать программы, если бы не заказчики'\n",
    "phrase_2 = '640Кб должно хватить для любых задач. Билл Гейтс (по легенде)'\n",
    "if phrase_1 > phrase_2:\n",
    "    print('phrase_1 длиннее phrase_2')"
   ]
  },
  {
   "cell_type": "code",
   "execution_count": 36,
   "metadata": {},
   "outputs": [
    {
     "name": "stdout",
     "output_type": "stream",
     "text": [
      "phrase_1 длиннее phrase_2\n"
     ]
    }
   ],
   "source": [
    "# Задание 1.1\n",
    "len('Насколько проще было бы писать программы, если бы не заказчики') > len('640Кб должно хватить для любых задач. Билл Гейтс (по легенде)')\n",
    "if phrase_1 > phrase_2:\n",
    "    print('phrase_1 длиннее phrase_2')"
   ]
  },
  {
   "cell_type": "code",
   "execution_count": 38,
   "metadata": {},
   "outputs": [
    {
     "name": "stdout",
     "output_type": "stream",
     "text": [
      "phrase_2 длиннее phrase_1\n"
     ]
    }
   ],
   "source": [
    "# Задание 1.2\n",
    "phrase_1 = '640Кб должно хватить для любых задач. Билл Гейтс (по легенде)'\n",
    "phrase_2 = 'Насколько проще было бы писать программы, если бы не заказчики'\n",
    "if phrase_2 > phrase_1:\n",
    "    print('phrase_2 длиннее phrase_1')"
   ]
  },
  {
   "cell_type": "code",
   "execution_count": 44,
   "metadata": {},
   "outputs": [
    {
     "name": "stdout",
     "output_type": "stream",
     "text": [
      "phrase_2 длиннее phrase_1\n"
     ]
    }
   ],
   "source": [
    "# Задание 1.3\n",
    "phrase_1 = 'Насколько проще было бы писать программы, если бы не заказчики'\n",
    "phrase_2 = 'Насколько проще было бы писать программы, если бы не заказчики'\n",
    "if phrase_2 == phrase_1:\n",
    "    print('Фразы равной длины')"
   ]
  },
  {
   "cell_type": "code",
   "execution_count": 1,
   "metadata": {},
   "outputs": [
    {
     "name": "stdout",
     "output_type": "stream",
     "text": [
      "2020 високосный год\n"
     ]
    }
   ],
   "source": [
    "# Задание 2.1\n",
    "year = 2020\n",
    "if year % 400 == 0:\n",
    "    print(\"%d високосный год\" %year)\n",
    "elif year % 100 == 0:\n",
    "    print(\"%d обычный год\" %year)\n",
    "elif year % 4 == 0:\n",
    "    print(\"%d високосный год\" %year)\n",
    "else:\n",
    "    print(\"%d обычный год\" %year)"
   ]
  },
  {
   "cell_type": "code",
   "execution_count": 4,
   "metadata": {},
   "outputs": [
    {
     "name": "stdout",
     "output_type": "stream",
     "text": [
      "2019 обычный год\n"
     ]
    }
   ],
   "source": [
    "# Задание 2.2\n",
    "year = 2019\n",
    "if year % 400 == 0:\n",
    "    print(\"%d високосный год\" %year)\n",
    "elif year % 100 == 0:\n",
    "    print(\"%d обычный год\" %year)\n",
    "elif year % 4 == 0:\n",
    "    print(\"%d високосный год\" %year)\n",
    "else:\n",
    "    print(\"%d обычный год\" %year)"
   ]
  },
  {
   "cell_type": "code",
   "execution_count": 12,
   "metadata": {},
   "outputs": [
    {
     "name": "stdout",
     "output_type": "stream",
     "text": [
      "Введите день рождения:30\n",
      "Введите месяц рождения:август\n",
      "Знак зодиака:Дева\n"
     ]
    }
   ],
   "source": [
    "# Задание 3.1\n",
    "date = int (input(\"Введите день рождения:\"))\n",
    "month = str (input(\"Введите месяц рождения:\"))\n",
    "\n",
    "if (date >= 21 and date <= 31 and month == 'март') or( month == 'апрель' and date >= 1 and date <= 19):\n",
    "   print(\"Знак зодиака:Овен\")\n",
    "\n",
    "elif (date >= 20 and date <= 30 and month == 'апрель') or( month == 'май' and date >= 1 and date <= 20):\n",
    "   print(\"Знак зодиака:Телец\")\n",
    "\n",
    "elif (date >= 21 and date <= 31 and month == 'май') or( month == 'июнь' and date >= 1 and date <= 21):\n",
    "   print(\"Знак зодиака:Близнецы\")\n",
    "\n",
    "elif (date >= 22 and date <= 30 and month == 'июнь') or( month == 'июль' and date >= 1 and date <= 22):\n",
    "   print(\"Знак зодиака:Рак\")\n",
    "\n",
    "elif (date >= 23 and date <= 31 and month == 'июль') or( month == 'август' and date >= 1 and date <= 22):\n",
    "   print(\"Знак зодиака:Лев\")\n",
    "\n",
    "elif (date >= 23 and date <= 31 and month == 'август') or( month == 'сентябрь' and date >= 1 and date <= 22):\n",
    "   print(\"Знак зодиака:Дева\")\n",
    "\n",
    "elif (date >= 23 and date <= 30 and month == 'сентябрь') or( month == 'октябрь' and date >= 1 and date <= 23):\n",
    "   print(\"Знак зодиака:Весы\")\n",
    "\n",
    "elif (date >= 24 and date <= 31 and month == 'октябрь') or( month == 'ноябрь' and date >= 1 and date <= 22):\n",
    "   print(\"Знак зодиака:Скорпион\")\n",
    "\n",
    "elif (date >= 23 and date <= 30 and month == 'ноябрь') or( month == 'декабрь' and date >= 1 and date <= 21):\n",
    "   print(\"Знак зодиака:Стрелец\")\n",
    "\n",
    "elif (date >= 22 and date <= 31 and month == 'декабрь') or( month == 'январь' and date >= 1 and date <= 20):\n",
    "   print(\"Знак зодиака:Козерог\")\n",
    "\n",
    "elif (date >= 21 and date <= 31 and month == 'январь') or( month == 'февраль' and date >= 1 and date <= 18):\n",
    "   print(\"Знак зодиака:Водолей\")\n",
    "\n",
    "elif (date >= 19 and date <= 29 and month == 'февраль') or( month == 'март' and date >= 1 and date <= 20):\n",
    "   print(\"Знак зодиака:Рыбы\")"
   ]
  },
  {
   "cell_type": "code",
   "execution_count": 13,
   "metadata": {},
   "outputs": [
    {
     "name": "stdout",
     "output_type": "stream",
     "text": [
      "Введите день рождения:29\n",
      "Введите месяц рождения:октябрь\n",
      "Знак зодиака:Скорпион\n"
     ]
    }
   ],
   "source": [
    "# Задание 3.2\n",
    "date = int (input(\"Введите день рождения:\"))\n",
    "month = str (input(\"Введите месяц рождения:\"))\n",
    "\n",
    "if (date >= 21 and date <= 31 and month == 'март') or( month == 'апрель' and date >= 1 and date <= 19):\n",
    "   print(\"Знак зодиака:Овен\")\n",
    "\n",
    "elif (date >= 20 and date <= 30 and month == 'апрель') or( month == 'май' and date >= 1 and date <= 20):\n",
    "   print(\"Знак зодиака:Телец\")\n",
    "\n",
    "elif (date >= 21 and date <= 31 and month == 'май') or( month == 'июнь' and date >= 1 and date <= 21):\n",
    "   print(\"Знак зодиака:Близнецы\")\n",
    "\n",
    "elif (date >= 22 and date <= 30 and month == 'июнь') or( month == 'июль' and date >= 1 and date <= 22):\n",
    "   print(\"Знак зодиака:Рак\")\n",
    "\n",
    "elif (date >= 23 and date <= 31 and month == 'июль') or( month == 'август' and date >= 1 and date <= 22):\n",
    "   print(\"Знак зодиака:Лев\")\n",
    "\n",
    "elif (date >= 23 and date <= 31 and month == 'август') or( month == 'сентябрь' and date >= 1 and date <= 22):\n",
    "   print(\"Знак зодиака:Дева\")\n",
    "\n",
    "elif (date >= 23 and date <= 30 and month == 'сентябрь') or( month == 'октябрь' and date >= 1 and date <= 23):\n",
    "   print(\"Знак зодиака:Весы\")\n",
    "\n",
    "elif (date >= 24 and date <= 31 and month == 'октябрь') or( month == 'ноябрь' and date >= 1 and date <= 22):\n",
    "   print(\"Знак зодиака:Скорпион\")\n",
    "\n",
    "elif (date >= 23 and date <= 30 and month == 'ноябрь') or( month == 'декабрь' and date >= 1 and date <= 21):\n",
    "   print(\"Знак зодиака:Стрелец\")\n",
    "\n",
    "elif (date >= 22 and date <= 31 and month == 'декабрь') or( month == 'январь' and date >= 1 and date <= 20):\n",
    "   print(\"Знак зодиака:Козерог\")\n",
    "\n",
    "elif (date >= 21 and date <= 31 and month == 'январь') or( month == 'февраль' and date >= 1 and date <= 18):\n",
    "   print(\"Знак зодиака:Водолей\")\n",
    "\n",
    "elif (date >= 19 and date <= 29 and month == 'февраль') or( month == 'март' and date >= 1 and date <= 20):\n",
    "   print(\"Знак зодиака:Рыбы\")"
   ]
  },
  {
   "cell_type": "code",
   "execution_count": 26,
   "metadata": {},
   "outputs": [
    {
     "name": "stdout",
     "output_type": "stream",
     "text": [
      "Ширина:15\n",
      "Длина:50\n",
      "Высота:15\n",
      "Стандартная коробка №3\n"
     ]
    }
   ],
   "source": [
    "# Задание 4.1\n",
    "width = int (input(\"Ширина:\"))\n",
    "length = int (input(\"Длина:\"))\n",
    "height = int (input(\"Высота:\"))\n",
    "\n",
    "if (width < 15 and length < 15 and height < 15):\n",
    "   print(\"Коробка №1\")\n",
    "\n",
    "elif (width > 15 and length > 15 and height > 15) or (width < 50 and length < 50 and height < 50):\n",
    "   print(\"Коробка №2\")\n",
    "         \n",
    "elif (width >= 15 and length > 200 and height >= 15):\n",
    "   print(\"Упаковка для лыж\")\n",
    "         \n",
    "else:\n",
    "   print(\"Стандартная коробка №3\")"
   ]
  },
  {
   "cell_type": "code",
   "execution_count": 25,
   "metadata": {},
   "outputs": [
    {
     "name": "stdout",
     "output_type": "stream",
     "text": [
      "Ширина:45\n",
      "Длина:205\n",
      "Высота:45\n",
      "Упаковка для лыж\n"
     ]
    }
   ],
   "source": [
    "# Задание 4.2\n",
    "width = int (input(\"Ширина:\"))\n",
    "length = int (input(\"Длина:\"))\n",
    "height = int (input(\"Высота:\"))\n",
    "\n",
    "if (width < 15 and length < 15 and height < 15):\n",
    "   print(\"Коробка №1\")\n",
    "\n",
    "elif (width > 15 and length > 15 and height > 15) and (width < 50 and length < 50 and height < 50):\n",
    "   print(\"Коробка №2\")\n",
    "         \n",
    "elif (length > 200):\n",
    "   print(\"Упаковка для лыж\")\n",
    "         \n",
    "else:\n",
    "   print(\"Стандартная коробка №3\")"
   ]
  },
  {
   "cell_type": "code",
   "execution_count": null,
   "metadata": {},
   "outputs": [],
   "source": []
  }
 ],
 "metadata": {
  "kernelspec": {
   "display_name": "Python 3",
   "language": "python",
   "name": "python3"
  },
  "language_info": {
   "codemirror_mode": {
    "name": "ipython",
    "version": 3
   },
   "file_extension": ".py",
   "mimetype": "text/x-python",
   "name": "python",
   "nbconvert_exporter": "python",
   "pygments_lexer": "ipython3",
   "version": "3.8.5"
  }
 },
 "nbformat": 4,
 "nbformat_minor": 4
}
