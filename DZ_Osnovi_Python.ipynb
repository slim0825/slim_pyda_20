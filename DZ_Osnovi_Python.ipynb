{
 "cells": [
  {
   "cell_type": "code",
   "execution_count": 32,
   "metadata": {},
   "outputs": [
    {
     "name": "stdout",
     "output_type": "stream",
     "text": [
      "phrase_2 длиннее phrase_1\n"
     ]
    }
   ],
   "source": [
    "# Задание 1.1\n",
    "phrase_1 = 'aq'\n",
    "phrase_2 = 'saf'\n",
    "if len(phrase_1) > len(phrase_2):\n",
    "    print('phrase_1 длиннее phrase_2')\n",
    "elif len(phrase_2) > len(phrase_1):\n",
    "    print('phrase_2 длиннее phrase_1')\n",
    "else:\n",
    "    print('Фразы равной длины')"
   ]
  },
  {
   "cell_type": "code",
   "execution_count": 1,
   "metadata": {},
   "outputs": [
    {
     "name": "stdout",
     "output_type": "stream",
     "text": [
      "2020 високосный год\n"
     ]
    }
   ],
   "source": [
    "# Задание 2.1\n",
    "year = 2020\n",
    "if year % 400 == 0:\n",
    "    print(\"%d високосный год\" %year)\n",
    "elif year % 100 == 0:\n",
    "    print(\"%d обычный год\" %year)\n",
    "elif year % 4 == 0:\n",
    "    print(\"%d високосный год\" %year)\n",
    "else:\n",
    "    print(\"%d обычный год\" %year)"
   ]
  },
  {
   "cell_type": "code",
   "execution_count": 4,
   "metadata": {},
   "outputs": [
    {
     "name": "stdout",
     "output_type": "stream",
     "text": [
      "2019 обычный год\n"
     ]
    }
   ],
   "source": [
    "# Задание 2.2\n",
    "year = 2019\n",
    "if year % 400 == 0:\n",
    "    print(\"%d високосный год\" %year)\n",
    "elif year % 100 == 0:\n",
    "    print(\"%d обычный год\" %year)\n",
    "elif year % 4 == 0:\n",
    "    print(\"%d високосный год\" %year)\n",
    "else:\n",
    "    print(\"%d обычный год\" %year)"
   ]
  },
  {
   "cell_type": "code",
   "execution_count": 12,
   "metadata": {},
   "outputs": [
    {
     "name": "stdout",
     "output_type": "stream",
     "text": [
      "Введите день рождения:30\n",
      "Введите месяц рождения:август\n",
      "Знак зодиака:Дева\n"
     ]
    }
   ],
   "source": [
    "# Задание 3.1\n",
    "date = int (input(\"Введите день рождения:\"))\n",
    "month = str (input(\"Введите месяц рождения:\"))\n",
    "\n",
    "if(date >= 21 and date <= 31 and month == 'март')or(month == 'апрель' and date >= 1 and date <= 19):\n",
    "   print(\"Знак зодиака:Овен\")\n",
    "\n",
    "elif(date >= 20 and date <= 30 and month == 'апрель')or(month == 'май' and date >= 1 and date <= 20):\n",
    "   print(\"Знак зодиака:Телец\")\n",
    "\n",
    "elif(date >= 21 and date <= 31 and month == 'май')or(month == 'июнь' and date >= 1 and date <= 21):\n",
    "   print(\"Знак зодиака:Близнецы\")\n",
    "\n",
    "elif(date >= 22 and date <= 30 and month == 'июнь')or(month == 'июль' and date >= 1 and date <= 22):\n",
    "   print(\"Знак зодиака:Рак\")\n",
    "\n",
    "elif(date >= 23 and date <= 31 and month == 'июль')or(month == 'август' and date >= 1 and date <= 22):\n",
    "   print(\"Знак зодиака:Лев\")\n",
    "\n",
    "elif(date >= 23 and date <= 31 and month == 'август')or(month == 'сентябрь' and date >= 1 and date <= 22):\n",
    "   print(\"Знак зодиака:Дева\")\n",
    "\n",
    "elif(date >= 23 and date <= 30 and month == 'сентябрь')or(month == 'октябрь' and date >= 1 and date <= 23):\n",
    "   print(\"Знак зодиака:Весы\")\n",
    "\n",
    "elif(date >= 24 and date <= 31 and month == 'октябрь')or(month == 'ноябрь' and date >= 1 and date <= 22):\n",
    "   print(\"Знак зодиака:Скорпион\")\n",
    "\n",
    "elif(date >= 23 and date <= 30 and month == 'ноябрь')or(month == 'декабрь' and date >= 1 and date <= 21):\n",
    "   print(\"Знак зодиака:Стрелец\")\n",
    "\n",
    "elif(date >= 22 and date <= 31 and month == 'декабрь')or(month == 'январь' and date >= 1 and date <= 20):\n",
    "   print(\"Знак зодиака:Козерог\")\n",
    "\n",
    "elif(date >= 21 and date <= 31 and month == 'январь')or(month == 'февраль' and date >= 1 and date <= 18):\n",
    "   print(\"Знак зодиака:Водолей\")\n",
    "\n",
    "elif(date >= 19 and date <= 29 and month == 'февраль')or(month == 'март' and date >= 1 and date <= 20):\n",
    "   print(\"Знак зодиака:Рыбы\")"
   ]
  },
  {
   "cell_type": "code",
   "execution_count": 13,
   "metadata": {},
   "outputs": [
    {
     "name": "stdout",
     "output_type": "stream",
     "text": [
      "Введите день рождения:29\n",
      "Введите месяц рождения:октябрь\n",
      "Знак зодиака:Скорпион\n"
     ]
    }
   ],
   "source": [
    "# Задание 3.2\n",
    "date = int (input(\"Введите день рождения:\"))\n",
    "month = str (input(\"Введите месяц рождения:\"))\n",
    "\n",
    "if(date >= 21 and date <= 31 and month == 'март')or(month == 'апрель' and date >= 1 and date <= 19):\n",
    "   print(\"Знак зодиака:Овен\")\n",
    "\n",
    "elif(date >= 20 and date <= 30 and month == 'апрель')or(month == 'май' and date >= 1 and date <= 20):\n",
    "   print(\"Знак зодиака:Телец\")\n",
    "\n",
    "elif(date >= 21 and date <= 31 and month == 'май')or(month == 'июнь' and date >= 1 and date <= 21):\n",
    "   print(\"Знак зодиака:Близнецы\")\n",
    "\n",
    "elif(date >= 22 and date <= 30 and month == 'июнь')or(month == 'июль' and date >= 1 and date <= 22):\n",
    "   print(\"Знак зодиака:Рак\")\n",
    "\n",
    "elif(date >= 23 and date <= 31 and month == 'июль')or(month == 'август' and date >= 1 and date <= 22):\n",
    "   print(\"Знак зодиака:Лев\")\n",
    "\n",
    "elif(date >= 23 and date <= 31 and month == 'август')or(month == 'сентябрь' and date >= 1 and date <= 22):\n",
    "   print(\"Знак зодиака:Дева\")\n",
    "\n",
    "elif(date >= 23 and date <= 30 and month == 'сентябрь')or(month == 'октябрь' and date >= 1 and date <= 23):\n",
    "   print(\"Знак зодиака:Весы\")\n",
    "\n",
    "elif(date >= 24 and date <= 31 and month == 'октябрь')or(month == 'ноябрь' and date >= 1 and date <= 22):\n",
    "   print(\"Знак зодиака:Скорпион\")\n",
    "\n",
    "elif(date >= 23 and date <= 30 and month == 'ноябрь')or(month == 'декабрь' and date >= 1 and date <= 21):\n",
    "   print(\"Знак зодиака:Стрелец\")\n",
    "\n",
    "elif(date >= 22 and date <= 31 and month == 'декабрь')or(month == 'январь' and date >= 1 and date <= 20):\n",
    "   print(\"Знак зодиака:Козерог\")\n",
    "\n",
    "elif(date >= 21 and date <= 31 and month == 'январь')or(month == 'февраль' and date >= 1 and date <= 18):\n",
    "   print(\"Знак зодиака:Водолей\")\n",
    "\n",
    "elif(date >= 19 and date <= 29 and month == 'февраль')or(month == 'март' and date >= 1 and date <= 20):\n",
    "   print(\"Знак зодиака:Рыбы\")"
   ]
  },
  {
   "cell_type": "code",
   "execution_count": 3,
   "metadata": {},
   "outputs": [
    {
     "name": "stdout",
     "output_type": "stream",
     "text": [
      "Ширина:15\n",
      "Длина:50\n",
      "Высота:15\n",
      "Стандартная коробка №3\n"
     ]
    }
   ],
   "source": [
    "# Задание 4.1\n",
    "width = int(input(\"Ширина:\"))\n",
    "length = int(input(\"Длина:\"))\n",
    "height = int(input(\"Высота:\"))\n",
    "\n",
    "if(width < 15 and length < 15 and height < 15):\n",
    "   print(\"Коробка №1\")\n",
    "\n",
    "elif(width > 15 and length > 15 and height > 15)or(width < 50 and length < 50 and height < 50):\n",
    "   print(\"Коробка №2\")\n",
    "         \n",
    "elif(width >= 15 and length > 200 and height >= 15):\n",
    "   print(\"Упаковка для лыж\")\n",
    "         \n",
    "else:\n",
    "   print(\"Стандартная коробка №3\")"
   ]
  },
  {
   "cell_type": "code",
   "execution_count": 13,
   "metadata": {},
   "outputs": [
    {
     "name": "stdout",
     "output_type": "stream",
     "text": [
      "Ширина:45\n",
      "Длина:205\n",
      "Высота:45\n",
      "Упаковка для лыж\n"
     ]
    }
   ],
   "source": [
    "# Задание 4.2\n",
    "width = int(input(\"Ширина:\"))\n",
    "length = int(input(\"Длина:\"))\n",
    "height = int(input(\"Высота:\"))\n",
    "\n",
    "if(length > 200):\n",
    "   print(\"Упаковка для лыж\")\n",
    "\n",
    "elif(width < 15 and length < 15 and height < 15):\n",
    "   print(\"Коробка №1\")\n",
    "\n",
    "elif (15 < width < 50 or 15 < length < 50 or 15 < height < 50):\n",
    "   print(\"Коробка №2\")\n",
    "             \n",
    "else:\n",
    "   print(\"Стандартная коробка №3\")"
   ]
  },
  {
   "cell_type": "code",
   "execution_count": 1,
   "metadata": {},
   "outputs": [
    {
     "name": "stdout",
     "output_type": "stream",
     "text": [
      "Несчастливый билет\n"
     ]
    }
   ],
   "source": [
    "# Задание 5.1\n",
    "a = 123456\n",
    "\n",
    "if(a // 100000 % 10) + a // 10000 % 10 + a // 1000 % 10 == a //100 % 10 + a //10 % 10 + a //1 % 10:\n",
    "    print(\"Счастливый билет\")\n",
    "else:\n",
    "    print(\"Несчастливый билет\")"
   ]
  },
  {
   "cell_type": "code",
   "execution_count": 14,
   "metadata": {},
   "outputs": [
    {
     "name": "stdout",
     "output_type": "stream",
     "text": [
      "Счастливый билет\n"
     ]
    }
   ],
   "source": [
    "# Задание 5.2\n",
    "a = 123321\n",
    "\n",
    "if(a // 100000 % 10) + a // 10000 % 10 + a // 1000 % 10 == a //100 % 10 + a //10 % 10 + a //1 % 10:\n",
    "    print(\"Счастливый билет\")\n",
    "else:\n",
    "    print(\"Несчастливый билет\")"
   ]
  },
  {
   "cell_type": "code",
   "execution_count": 33,
   "metadata": {},
   "outputs": [
    {
     "name": "stdout",
     "output_type": "stream",
     "text": [
      "Введите название фигуры =круг\n",
      "Введите радиус R = 10\n",
      "314.16\n"
     ]
    }
   ],
   "source": [
    "# Задание 6.1\n",
    "import math \n",
    "\n",
    "figure = str(input(\"Введите название фигуры =\"))\n",
    "\n",
    "if figure == \"треугольник\":       \n",
    "    a = float(input(\"Введите сторону A = \"))       \n",
    "    b = float(input(\"Введите сторону B = \"))       \n",
    "    c = float(input(\"Введите сторону C = \"))       \n",
    "    p = (a + b + c) / 2       \n",
    "    s = math.sqrt (( p * ( p - a ) * ( p - b ) * ( p - c ))) \n",
    "    \n",
    "elif figure == \"прямоугольник\":       \n",
    "    a = float(input(\"Введите сторону A = \"))       \n",
    "    b = float(input(\"Введите сторону B = \"))       \n",
    "    s = a * b\n",
    "    \n",
    "elif figure == \"круг\":       \n",
    "    r = float(input(\"Введите радиус R = \"))       \n",
    "    s = math.pi *( r ** 2 )   \n",
    "\n",
    "print(round (s, 2))"
   ]
  },
  {
   "cell_type": "code",
   "execution_count": 34,
   "metadata": {},
   "outputs": [
    {
     "name": "stdout",
     "output_type": "stream",
     "text": [
      "Введите название фигуры =треугольник\n",
      "Введите сторону A = 2\n",
      "Введите сторону B = 2\n",
      "Введите сторону C = 3\n",
      "1.98\n"
     ]
    }
   ],
   "source": [
    "# Задание 6.2\n",
    "import math \n",
    "\n",
    "figure = str(input(\"Введите название фигуры =\"))\n",
    "\n",
    "if figure == \"треугольник\":       \n",
    "    a = float(input(\"Введите сторону A = \"))       \n",
    "    b = float(input(\"Введите сторону B = \"))       \n",
    "    c = float(input(\"Введите сторону C = \"))       \n",
    "    p = (a + b + c) / 2       \n",
    "    s = math.sqrt(( p*( p - a )*( p - b )*( p - c ))) \n",
    "    \n",
    "elif figure == \"прямоугольник\":       \n",
    "    a = float(input(\"Введите сторону A = \"))       \n",
    "    b = float(input(\"Введите сторону B = \"))       \n",
    "    s = a * b\n",
    "    \n",
    "elif figure == \"круг\":       \n",
    "    r = float(input(\"Введите радиус R = \"))       \n",
    "    s = math.pi *( r ** 2 )   \n",
    "\n",
    "print(round(s, 2))"
   ]
  },
  {
   "cell_type": "code",
   "execution_count": null,
   "metadata": {},
   "outputs": [],
   "source": []
  }
 ],
 "metadata": {
  "kernelspec": {
   "display_name": "Python 3",
   "language": "python",
   "name": "python3"
  },
  "language_info": {
   "codemirror_mode": {
    "name": "ipython",
    "version": 3
   },
   "file_extension": ".py",
   "mimetype": "text/x-python",
   "name": "python",
   "nbconvert_exporter": "python",
   "pygments_lexer": "ipython3",
   "version": "3.8.5"
  }
 },
 "nbformat": 4,
 "nbformat_minor": 4
}
