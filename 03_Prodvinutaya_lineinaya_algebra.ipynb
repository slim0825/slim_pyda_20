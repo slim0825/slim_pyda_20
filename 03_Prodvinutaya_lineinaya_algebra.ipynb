{
 "cells": [
  {
   "cell_type": "markdown",
   "metadata": {},
   "source": [
    "### Уровень 0:\n",
    "Придумайте матрицы, которые обладают следующими свойствами:\n",
    "\n",
    "a) Диагональная, ортогональная, но не единичная(!)\n",
    "\n",
    "b) Верхнетреугольная, ортогональная\n",
    "\n",
    "c) Нижнетреугольная, ортогональная\n",
    "\n",
    "d) Матрица, у которой определитель = 1, и все элементы не равны 0\n",
    "\n",
    "P.S. Во всех пунктах ответом должна быть ненулевая матрица размерности не менее 2!\n",
    "\n",
    "Найдите собственные значения и собственные вектора матриц:\n",
    "\n",
    "m = np.array([[2, 2],\n",
    "              [1, 3]])\n",
    "print(m)"
   ]
  },
  {
   "cell_type": "code",
   "execution_count": 8,
   "metadata": {},
   "outputs": [],
   "source": [
    "import numpy as np\n",
    "from numpy import linalg as la"
   ]
  },
  {
   "cell_type": "code",
   "execution_count": 4,
   "metadata": {},
   "outputs": [
    {
     "data": {
      "text/plain": [
       "array([[1, 0, 0],\n",
       "       [0, 1, 0],\n",
       "       [0, 0, 1]])"
      ]
     },
     "execution_count": 4,
     "metadata": {},
     "output_type": "execute_result"
    }
   ],
   "source": [
    "a = np.array([[-1, 0, 0], [0, -1, 0], [0, 0, -1]])   ###  Диагональная, ортогональная\n",
    "\n",
    "at = a.transpose()\n",
    "a.dot(at)"
   ]
  },
  {
   "cell_type": "code",
   "execution_count": 5,
   "metadata": {},
   "outputs": [
    {
     "data": {
      "text/plain": [
       "array([[1, 0, 0],\n",
       "       [0, 1, 0],\n",
       "       [0, 0, 1]])"
      ]
     },
     "execution_count": 5,
     "metadata": {},
     "output_type": "execute_result"
    }
   ],
   "source": [
    "b = np.array([[1, 0, 0], [0, 1, 0], [0, 0, 1]])   ### Верхнетреугольная, ортогональная\n",
    "\n",
    "bt = b.transpose()\n",
    "b.dot(bt)"
   ]
  },
  {
   "cell_type": "code",
   "execution_count": 6,
   "metadata": {},
   "outputs": [
    {
     "data": {
      "text/plain": [
       "1.0"
      ]
     },
     "execution_count": 6,
     "metadata": {},
     "output_type": "execute_result"
    }
   ],
   "source": [
    "c = np.array([[1, 2], [1, 3]])   ### Матрица, у которой определитель = 1, и все элементы не равны 0\n",
    "\n",
    "np.linalg.det(c)"
   ]
  },
  {
   "cell_type": "code",
   "execution_count": 20,
   "metadata": {},
   "outputs": [
    {
     "name": "stdout",
     "output_type": "stream",
     "text": [
      "Собственные значения матрицы: [1. 4.]\n",
      "Собственные векторы матрицы: [[-0.89442719 -0.70710678]\n",
      " [ 0.4472136  -0.70710678]]\n"
     ]
    }
   ],
   "source": [
    "m = np.array([[2, 2], [1, 3]])   ### Найдите собственные значения и собственные вектора матрицы\n",
    "\n",
    "w, v = la.eig(m)\n",
    "print(f'Собственные значения матрицы: {w}\\nСобственные векторы матрицы: {v}')"
   ]
  },
  {
   "cell_type": "markdown",
   "metadata": {},
   "source": [
    "### Уровень 1:\n",
    "Найдите спектральное разложение матрицы:\n",
    "   \n",
    "m = np.array([[1, 2],   \n",
    "              [2,3]])   \n",
    "print(m)   "
   ]
  },
  {
   "cell_type": "code",
   "execution_count": 30,
   "metadata": {},
   "outputs": [
    {
     "name": "stdout",
     "output_type": "stream",
     "text": [
      "[[1 2]\n",
      " [2 3]]\n"
     ]
    }
   ],
   "source": [
    "m = np.array([[1, 2], [2, 3]])\n",
    "print(m)"
   ]
  },
  {
   "cell_type": "markdown",
   "metadata": {},
   "source": [
    "Спектральное разложение:\n",
    "\n",
    "А = ST D S\n",
    "\n",
    "D - диагональная матрица из собств значений А\n",
    "\n",
    "S - ортогональная матрица собств векторов А\n",
    "\n",
    "ST - транспонированная S"
   ]
  },
  {
   "cell_type": "code",
   "execution_count": 31,
   "metadata": {},
   "outputs": [],
   "source": [
    "v1, w1 = np.linalg.eig(m)  ### Определим собственные значения и вектора матрицы"
   ]
  },
  {
   "cell_type": "code",
   "execution_count": 32,
   "metadata": {},
   "outputs": [
    {
     "data": {
      "text/plain": [
       "array([[-0.23606798,  0.        ],\n",
       "       [ 0.        ,  4.23606798]])"
      ]
     },
     "execution_count": 32,
     "metadata": {},
     "output_type": "execute_result"
    }
   ],
   "source": [
    "D = np.diag(v1)  ### Диагональная матрица из собственных значений\n",
    "D"
   ]
  },
  {
   "cell_type": "code",
   "execution_count": 33,
   "metadata": {},
   "outputs": [
    {
     "data": {
      "text/plain": [
       "array([[-0.85065081,  0.52573111],\n",
       "       [-0.52573111, -0.85065081]])"
      ]
     },
     "execution_count": 33,
     "metadata": {},
     "output_type": "execute_result"
    }
   ],
   "source": [
    "S = w1.T  ### Ортогональная матрица\n",
    "S"
   ]
  },
  {
   "cell_type": "code",
   "execution_count": 34,
   "metadata": {},
   "outputs": [
    {
     "data": {
      "text/plain": [
       "array([[1., 2.],\n",
       "       [2., 3.]])"
      ]
     },
     "execution_count": 34,
     "metadata": {},
     "output_type": "execute_result"
    }
   ],
   "source": [
    "np.dot(np.dot(S.T, D), S) ### Проверим разложение"
   ]
  },
  {
   "cell_type": "code",
   "execution_count": 35,
   "metadata": {},
   "outputs": [],
   "source": [
    "from sklearn.datasets import load_digits\n",
    "from sklearn import decomposition\n",
    "from sklearn.metrics import mean_squared_error"
   ]
  },
  {
   "cell_type": "code",
   "execution_count": 36,
   "metadata": {
    "scrolled": true
   },
   "outputs": [
    {
     "data": {
      "text/plain": [
       "array([[ 0.,  0.,  5., ...,  0.,  0.,  0.],\n",
       "       [ 0.,  0.,  0., ..., 10.,  0.,  0.],\n",
       "       [ 0.,  0.,  0., ..., 16.,  9.,  0.],\n",
       "       ...,\n",
       "       [ 0.,  0.,  1., ...,  6.,  0.,  0.],\n",
       "       [ 0.,  0.,  2., ..., 12.,  0.,  0.],\n",
       "       [ 0.,  0., 10., ..., 12.,  1.,  0.]])"
      ]
     },
     "execution_count": 36,
     "metadata": {},
     "output_type": "execute_result"
    }
   ],
   "source": [
    "digits = load_digits()\n",
    "X = digits.data\n",
    "X"
   ]
  },
  {
   "cell_type": "code",
   "execution_count": 37,
   "metadata": {},
   "outputs": [
    {
     "name": "stdout",
     "output_type": "stream",
     "text": [
      "[15.97767846223538, 13.421012200761503, 11.206800697137187, 9.627986407135156, 8.542447630970715, 7.619390866574089, 6.809164147550475, 6.121796659985257, 5.492330145309384, 4.914315479459936, 4.468946564637585, 4.0423367611515015, 3.700306044192171, 3.367420267598097, 3.091878328391025, 2.827336804028408, 2.5796882404771484, 2.3454066672338953, 2.154405869341798, 1.9845016090419407, 1.8173720616916549, 1.667840805472903, 1.523613340387156, 1.3878888537489478, 1.2575179925145283, 1.145500057611907, 1.0372491933818169, 0.9405897315060152, 0.8489244924815201, 0.7682328534848993, 0.6979713828063034, 0.6316441074264751, 0.5684396725861056, 0.5068578479645166, 0.4489718618514343, 0.39382026827819777, 0.34564884616516267, 0.3028926279681543, 0.2611633846866913, 0.22147132414311005, 0.18581949479366316, 0.1560354176184751, 0.12765800399303623, 0.10126700469810238, 0.07937337936466579, 0.059193695218972026, 0.041095425543330996, 0.026553209917773213, 0.01609261877524608, 0.008502076113108128, 0.004561294804538934, 0.003012894530133873, 0.002027024943484215, 0.0010785255910710724, 0.0004590856512829409, 0.00022561309146386732, 9.329500575010285e-05, 3.670683290814935e-05, 1.676401297670137e-05, 6.4374048448722235e-06, 2.581279057403296e-28, 2.5814575309943546e-28, 2.581636004585413e-28]\n"
     ]
    }
   ],
   "source": [
    "res = []\n",
    "for i in range(1,64):\n",
    "    pca = decomposition.PCA(n_components = i)\n",
    "    X_red= pca.fit_transform(X)\n",
    "    X_new = pca.inverse_transform(X_red) \n",
    "    a = mean_squared_error(X, X_new)\n",
    "    res.append(a)\n",
    "print(res)"
   ]
  },
  {
   "cell_type": "code",
   "execution_count": 42,
   "metadata": {},
   "outputs": [
    {
     "data": {
      "text/plain": [
       "Text(0, 0.5, 'среднеквадратичная ошибка')"
      ]
     },
     "execution_count": 42,
     "metadata": {},
     "output_type": "execute_result"
    },
    {
     "data": {
      "image/png": "[encoded data removed]",
      "text/plain": [
       "<Figure size 432x288 with 1 Axes>"
      ]
     },
     "metadata": {
      "needs_background": "light"
     },
     "output_type": "display_data"
    }
   ],
   "source": [
    "import matplotlib.pyplot as plt\n",
    "plt.plot(res)\n",
    "plt.xlabel('n_components')\n",
    "plt.ylabel('среднеквадратичная ошибка')"
   ]
  }
 ],
 "metadata": {
  "kernelspec": {
   "display_name": "Python 3",
   "language": "python",
   "name": "python3"
  },
  "language_info": {
   "codemirror_mode": {
    "name": "ipython",
    "version": 3
   },
   "file_extension": ".py",
   "mimetype": "text/x-python",
   "name": "python",
   "nbconvert_exporter": "python",
   "pygments_lexer": "ipython3",
   "version": "3.8.5"
  }
 },
 "nbformat": 4,
 "nbformat_minor": 4
}
