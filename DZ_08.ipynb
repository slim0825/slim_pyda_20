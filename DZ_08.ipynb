{
 "cells": [
  {
   "cell_type": "code",
   "execution_count": 1,
   "metadata": {},
   "outputs": [],
   "source": [
    "import re"
   ]
  },
  {
   "cell_type": "code",
   "execution_count": 125,
   "metadata": {},
   "outputs": [],
   "source": [
    "### Задание 1\n",
    "\n",
    "car_id = 'А222BС96'\n",
    "\n",
    "car_id1 = 'АБ22ВВ193'"
   ]
  },
  {
   "cell_type": "code",
   "execution_count": 133,
   "metadata": {},
   "outputs": [
    {
     "name": "stdout",
     "output_type": "stream",
     "text": [
      "Номер А222BС валиден. Регион 96\n"
     ]
    }
   ],
   "source": [
    "res = re.findall(r'[АВЕКМНОРСТУХABEKMHOPCTYX]{1}\\d{3}[АВЕКМНОРСТУХABEKMHOPCTYX]{2}\\d{2,3}', car_id)\n",
    "if res:\n",
    "    if len(res[0]) == 8:\n",
    "        print(f'Номер {res[0][:6]} валиден. Регион {res[0][-2:]}')\n",
    "    else:\n",
    "        print(f'Номер {res[0][:6]} валиден. Регион {res[0][-3:]}')\n",
    "else:\n",
    "    print('Номер не валиден')"
   ]
  },
  {
   "cell_type": "code",
   "execution_count": 127,
   "metadata": {},
   "outputs": [
    {
     "data": {
      "text/plain": [
       "'Напишите функцию, которая будет удалять все последовательные повторы слов из заданной строки при помощи регулярных выражений'"
      ]
     },
     "execution_count": 127,
     "metadata": {},
     "output_type": "execute_result"
    }
   ],
   "source": [
    "### Задание 2\n",
    "\n",
    "some_string = 'Напишите функцию функцию, которая будет будет будет будет удалять все все все все последовательные повторы \n",
    "слов из из из из заданной строки строки при помощи регулярных выражений'\n",
    "\n",
    "re.sub(r'\\b([^\\W\\d_]+)(\\s+\\1)+\\b', r'\\1', some_string) ### r'\\1' - заменяет найденное совпадение единичным экземпляром найденного слова"
   ]
  },
  {
   "cell_type": "code",
   "execution_count": 128,
   "metadata": {},
   "outputs": [],
   "source": [
    "### Задание 3\n",
    "\n",
    "some_words1 = 'Информационные технологии'\n",
    "some_words2 = 'Near Field Communication'"
   ]
  },
  {
   "cell_type": "code",
   "execution_count": 135,
   "metadata": {
    "scrolled": false
   },
   "outputs": [
    {
     "data": {
      "text/plain": [
       "'ИТ'"
      ]
     },
     "execution_count": 135,
     "metadata": {},
     "output_type": "execute_result"
    }
   ],
   "source": [
    "def acronim(some_words):\n",
    "    output = re.sub(r'(\\w)(\\w+)', r'\\1', some_words)\n",
    "    return output.upper().replace(' ', '')\n",
    "emails = ['test@gmail.com, xyz@test.in, test@ya.ru, xyz@mail.ru, xyz@ya.ru, xyz@gmail.com']\n",
    "acronim(some_words1)"
   ]
  },
  {
   "cell_type": "code",
   "execution_count": 150,
   "metadata": {},
   "outputs": [],
   "source": [
    "### Задание 4\n",
    "\n",
    "emails = ['test@gmail.com', 'xyz@test.in', 'test@ya.ru', 'xyz@mail.ru', 'xyz@ya.ru', 'xyz@gmail.com']"
   ]
  },
  {
   "cell_type": "code",
   "execution_count": 151,
   "metadata": {},
   "outputs": [
    {
     "name": "stdout",
     "output_type": "stream",
     "text": [
      "gmail.com: 2\n",
      "test.in: 1\n",
      "ya.ru: 2\n",
      "mail.ru: 1\n"
     ]
    }
   ],
   "source": [
    "def count_domains(emails_):\n",
    "    x = {}\n",
    "                   #создаю пустой словарь. Далее Перебираю список по элементам и выделяю по шаблону. Меняю тип списка на строку\n",
    "                   #затем проверяю его наличие в словаре. Если нет - добавляю ключом, со значением 1. Если есть - прибавляю 1.\n",
    "            \n",
    "    for domain in emails_:\n",
    "        domain = ''.join(re.findall(r'@(\\w+.\\w+)', domain))\n",
    "    \n",
    "        if domain in x:\n",
    "            x[domain] += 1\n",
    "        else:\n",
    "            x[domain] = 1\n",
    "    \n",
    "    for key, value in x.items():\n",
    "        print(f\"{key}: {value}\")\n",
    "    \n",
    "    \n",
    "count_domains(emails)"
   ]
  },
  {
   "cell_type": "code",
   "execution_count": 154,
   "metadata": {},
   "outputs": [],
   "source": [
    "### Задание 5\n",
    "\n",
    "some_text = 'Эталонной реализацией Python является интерпретатор CPython, поддерживающий большинство активно используемых платформ. Он распространяется под свободной лицензией Python Software Foundation License, позволяющей использовать его без ограничений в любых приложениях, включая проприетарные.'"
   ]
  },
  {
   "cell_type": "code",
   "execution_count": 185,
   "metadata": {},
   "outputs": [
    {
     "name": "stdout",
     "output_type": "stream",
     "text": [
      "Слов на гласные буквы: 9 Слов на согласные буквы: 21\n"
     ]
    }
   ],
   "source": [
    "def count_simbol(some_text):\n",
    "    vowel = r'\\b[аеёиоыэюяaeiouyАЕЁИОЫЭЮЯAEIOUY]'\n",
    "    consonant = r'\\b[бвгджзйклмнпрстфхцшщbcdfghjklmnpqrstvwxzБВГДЖЗЙКЛМНПРСТФХЦШЩBCDFGHJKLMNPQRSTVWXZ]'\n",
    "    print(f'Слов на гласные буквы: {len(re.findall(vowel, some_text))} Слов на согласные буквы: {len(re.findall(consonant, some_text))}')\n",
    "count_simbol(some_text)"
   ]
  },
  {
   "cell_type": "code",
   "execution_count": 201,
   "metadata": {},
   "outputs": [],
   "source": [
    "### Задание 6\n",
    "\n",
    "def validation_phone(phone):\n",
    "    pattern = r'\\b[\\W78](\\W*|\\s*)([9]\\d{2})(\\W*|\\s*)(\\d{3})(\\W*|\\s*)(\\d{2})(\\W*|\\s*)(\\d{2})'\n",
    "    result = re.search(pattern, phone)\n",
    "    if re.findall(pattern, phone):\n",
    "        return print(f'+7-{result.group(2)}-{result.group(4)}-{result.group(6)}-{result.group(8)}')\n",
    "    return print('Номер не валиден')"
   ]
  },
  {
   "cell_type": "code",
   "execution_count": 202,
   "metadata": {
    "scrolled": true
   },
   "outputs": [
    {
     "name": "stdout",
     "output_type": "stream",
     "text": [
      "+7-955-555-55-55\n"
     ]
    }
   ],
   "source": [
    "validation_phone('+7 955 555-55-55')"
   ]
  },
  {
   "cell_type": "code",
   "execution_count": 203,
   "metadata": {},
   "outputs": [
    {
     "name": "stdout",
     "output_type": "stream",
     "text": [
      "+7-955-555-55-55\n"
     ]
    }
   ],
   "source": [
    "validation_phone('8(955)555-55-55')"
   ]
  },
  {
   "cell_type": "code",
   "execution_count": 204,
   "metadata": {},
   "outputs": [
    {
     "name": "stdout",
     "output_type": "stream",
     "text": [
      "+7-955-555-55-55\n"
     ]
    }
   ],
   "source": [
    "validation_phone('+7 955 555 55 55')"
   ]
  },
  {
   "cell_type": "code",
   "execution_count": 205,
   "metadata": {},
   "outputs": [
    {
     "name": "stdout",
     "output_type": "stream",
     "text": [
      "+7-955-555-55-55\n"
     ]
    }
   ],
   "source": [
    "validation_phone('7(955) 555-55-55')"
   ]
  },
  {
   "cell_type": "code",
   "execution_count": 206,
   "metadata": {},
   "outputs": [
    {
     "name": "stdout",
     "output_type": "stream",
     "text": [
      "Номер не валиден\n"
     ]
    }
   ],
   "source": [
    "validation_phone('423-555-55-5555')"
   ]
  },
  {
   "cell_type": "code",
   "execution_count": 207,
   "metadata": {},
   "outputs": [
    {
     "name": "stdout",
     "output_type": "stream",
     "text": [
      "Номер не валиден\n"
     ]
    }
   ],
   "source": [
    "validation_phone('123-456-789')"
   ]
  }
 ],
 "metadata": {
  "kernelspec": {
   "display_name": "Python 3",
   "language": "python",
   "name": "python3"
  },
  "language_info": {
   "codemirror_mode": {
    "name": "ipython",
    "version": 3
   },
   "file_extension": ".py",
   "mimetype": "text/x-python",
   "name": "python",
   "nbconvert_exporter": "python",
   "pygments_lexer": "ipython3",
   "version": "3.8.5"
  }
 },
 "nbformat": 4,
 "nbformat_minor": 4
}
