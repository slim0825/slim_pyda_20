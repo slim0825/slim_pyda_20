{
 "cells": [
  {
   "cell_type": "markdown",
   "metadata": {},
   "source": [
    "### Задание 1\n",
    "\n",
    "* Дана переменная, в которой хранится словарь, содержащий гео-метки для каждого пользователя (пример структуры данных приведен ниже). Вам необходимо написать программу, которая выведет на экран множество уникальных гео-меток всех пользователей.\n",
    "\n",
    "1) Пример работы программы:\n",
    "\n",
    "   ids = {‘user1’: [213, 213, 213, 15, 213],\n",
    "   \n",
    "   ‘user2’: [54, 54, 119, 119, 119],\n",
    "   \n",
    "   ‘user3’: [213, 98, 98, 35]}\n",
    "   \n",
    "*  Результат: {98, 35, 15, 213, 54, 119}"
   ]
  },
  {
   "cell_type": "code",
   "execution_count": 65,
   "metadata": {},
   "outputs": [
    {
     "name": "stdout",
     "output_type": "stream",
     "text": [
      "{98, 35, 213, 54, 119, 15}\n"
     ]
    }
   ],
   "source": [
    "ids ={\n",
    "    'user1':[213, 213, 213, 15, 213],\n",
    "    'user2':[54, 54, 119, 119, 119],\n",
    "    'user3':[213, 98, 98, 35]\n",
    "}\n",
    "coordinates = set()\n",
    "\n",
    "[coordinates.update(set(x) if isinstance(x, (list, set)) else [x])\n",
    " for x in ids.values()]\n",
    "\n",
    "print(coordinates)"
   ]
  },
  {
   "cell_type": "markdown",
   "metadata": {},
   "source": [
    "### Задание 2\n",
    "\n",
    "* Дана переменная, в которой хранится список поисковых запросов пользователя (пример структуры данных приведен ниже). Вам необходимо написать программу, которая выведет на экран распределение количества слов в запросах в требуемом виде.\n",
    "\n",
    "* Пример работы программы:\n",
    "\n",
    "queries = [\n",
    "\n",
    "    ‘смотреть сериалы онлайн’,\n",
    "\n",
    "    ‘новости спорта’,\n",
    "\n",
    "    ‘афиша кино’,\n",
    "\n",
    "    ‘курс доллара’,\n",
    "\n",
    "    ‘сериалы этим летом’,\n",
    "\n",
    "    ‘курс по питону’,\n",
    "\n",
    "    ‘сериалы про спорт’,\n",
    "    ]\n",
    "\n",
    "* Результат:\n",
    "\n",
    "  Поисковых запросов, содержащих 2 слов(а): 42.86%\n",
    "  \n",
    "  Поисковых запросов, содержащих 3 слов(а): 57.14%"
   ]
  },
  {
   "cell_type": "code",
   "execution_count": 67,
   "metadata": {},
   "outputs": [
    {
     "name": "stdout",
     "output_type": "stream",
     "text": [
      "Поисковых запросов содержащих 3 слов(а): 57.14% (4 запр.)\n",
      "Поисковых запросов содержащих 2 слов(а): 42.86% (3 запр.)\n"
     ]
    }
   ],
   "source": [
    "queries =[\n",
    "    'смотреть сериалы онлайн',\n",
    "    'новости спорта',\n",
    "    'афиша кино',\n",
    "    'курс доллара',\n",
    "    'сериалы этим летом',\n",
    "    'курс по питону',\n",
    "    'сериалы про спорт'\n",
    "]\n",
    "\n",
    "storage = {}\n",
    "\n",
    "for query in queries:\n",
    "    words = query.split()\n",
    "\n",
    "    if len(words) in storage.keys():\n",
    "        storage[len(words)] += 1\n",
    "    else:\n",
    "        storage.update({\n",
    "            len(words): 1\n",
    "        })\n",
    "\n",
    "for key, value in storage.items():\n",
    "    percentage = round((value / len(queries)) * 100, 2)\n",
    "    print(f'Поисковых запросов содержащих {key} слов(а): {percentage}% ({value} запр.)')"
   ]
  },
  {
   "cell_type": "markdown",
   "metadata": {},
   "source": [
    "### Задание 3\n",
    "\n",
    "* Дана переменная, в которой хранится информация о затратах и доходе рекламных кампаний по различным источникам. Необходимо дополнить исходную структуру показателем ROI, который рассчитаем по формуле: (revenue / cost - 1) * 100\n",
    "\n",
    "* Пример работы программы:\n",
    "\n",
    "results = {\n",
    "\n",
    "    ‘vk’: {‘revenue’: 103, ‘cost’: 98},\n",
    "    \n",
    "    ‘yandex’: {‘revenue’: 179, ‘cost’: 153},\n",
    "    \n",
    "    ‘facebook’: {‘revenue’: 103, ‘cost’: 110},\n",
    "    \n",
    "    ‘adwords’: {‘revenue’: 35, ‘cost’: 34},\n",
    "    \n",
    "    ‘twitter’: {‘revenue’: 11, ‘cost’: 24},\n",
    "    }\n",
    "    \n",
    "* Результат:\n",
    "\n",
    "    {‘adwords’: {‘ROI’: 2.94, ‘cost’: 34, ‘revenue’: 35},\n",
    "    \n",
    "    ‘facebook’: {‘ROI’: -6.36, ‘cost’: 110, ‘revenue’: 103},\n",
    "    \n",
    "    ‘twitter’: {‘ROI’: -54.17, ‘cost’: 24, ‘revenue’: 11},\n",
    "    \n",
    "    ‘vk’: {‘ROI’: 5.1, ‘cost’: 98, ‘revenue’: 103},\n",
    "    \n",
    "    ‘yandex’: {‘ROI’: 16.99, ‘cost’: 153, ‘revenue’: 179}}"
   ]
  },
  {
   "cell_type": "code",
   "execution_count": 2,
   "metadata": {
    "scrolled": true
   },
   "outputs": [
    {
     "name": "stdout",
     "output_type": "stream",
     "text": [
      "vk {'revenue': 103, 'cost': 98}\n",
      "yandex {'revenue': 179, 'cost': 153}\n",
      "facebook {'revenue': 103, 'cost': 110}\n",
      "adwords {'revenue': 35, 'cost': 34}\n",
      "twitter {'revenue': 11, 'cost': 24}\n"
     ]
    }
   ],
   "source": [
    "results ={\n",
    "'vk':{'revenue': 103, 'cost': 98},\n",
    "'yandex':{'revenue': 179, 'cost': 153},\n",
    "'facebook':{'revenue': 103, 'cost': 110},\n",
    "'adwords':{'revenue': 35, 'cost': 34},\n",
    "'twitter':{'revenue': 11, 'cost': 24},\n",
    "}\n",
    "\n",
    "for key, value in results.items():\n",
    "    value['ROI'] = round((value['revenue'] / value['cost'] - 1)*100 , 2)\n",
    "\n",
    "    print(key, value)"
   ]
  },
  {
   "cell_type": "markdown",
   "metadata": {},
   "source": [
    "### Задание 4\n",
    "\n",
    "* Дана переменная, в которой хранится статистика рекламных каналов по объемам продаж (пример структуры данных приведен ниже). Напишите программу, которая возвращает название канала с максимальным объемом продаж.\n",
    "\n",
    "\n",
    "* Пример работы программы:\n",
    "\n",
    " stats = {‘facebook’: 55, ‘yandex’: 115, ‘vk’: 120, ‘google’: 99, ‘email’: 42, ‘ok’: 98} \n",
    " \n",
    "\n",
    "* Результат: Максимальный объем продаж на рекламном канале: vk"
   ]
  },
  {
   "cell_type": "code",
   "execution_count": 104,
   "metadata": {},
   "outputs": [
    {
     "name": "stdout",
     "output_type": "stream",
     "text": [
      "Максимальный объем продаж на рекламном канале: vk\n"
     ]
    }
   ],
   "source": [
    "stats ={'facebook': 55, \n",
    "        'yandex': 115, \n",
    "        'vk': 120, \n",
    "        'google': 99, \n",
    "        'email': 42, \n",
    "        'ok': 98\n",
    "}\n",
    "print('Максимальный объем продаж на рекламном канале:', max(stats, key=stats.get))"
   ]
  },
  {
   "cell_type": "markdown",
   "metadata": {},
   "source": [
    "### Задание 5 (необязательно)\n",
    "\n",
    "* Дан список произвольной длины. Необходимо написать код, который на основе исходного списка составит словарь такого уровня вложенности, какова длина исхондого списка.\n",
    "\n",
    "\n",
    "* Примеры работы программы:\n",
    "\n",
    "\n",
    "1) my_list = [‘2018-01-01’, ‘yandex’, ‘cpc’, 100]\n",
    "\n",
    "    *Результат: {‘2018-01-01’: {‘yandex’: {‘cpc’: 100}}}\n",
    "\n",
    "2) my_list = [‘a’, ‘b’, ‘c’, ‘d’, ‘e’, ‘f’]\n",
    "\n",
    "    *Результат: {‘a’: {‘b’: {‘c’: {‘d’: {‘e’: ‘f’}}}}}"
   ]
  },
  {
   "cell_type": "code",
   "execution_count": 118,
   "metadata": {},
   "outputs": [
    {
     "name": "stdout",
     "output_type": "stream",
     "text": [
      "{'2018-01-01': {'yandex': {'cpc': 100}}}\n"
     ]
    }
   ],
   "source": [
    "my_list = ['2018-01-01', \n",
    "           'yandex', \n",
    "           'cpc', \n",
    "           100]\n",
    "\n",
    "y = {my_list[-2]: my_list[-1]}\n",
    "for i in my_list[:-2][::-1]:\n",
    "    y = {i: y}\n",
    "print(y)"
   ]
  },
  {
   "cell_type": "code",
   "execution_count": 1,
   "metadata": {},
   "outputs": [],
   "source": [
    "cook_book ={\n",
    "'салат': [\n",
    "    {'ingridient_name': 'сыр', 'quantity': 50, 'measure': 'гр'},\n",
    "    {'ingridient_name': 'томаты', 'quantity': 2, 'measure': 'шт'},\n",
    "    {'ingridient_name': 'огурцы', 'quantity': 20, 'measure': 'гр'},\n",
    "    {'ingridient_name': 'маслины', 'quantity': 10, 'measure': 'гр'},\n",
    "    {'ingridient_name': 'оливковое масло', 'quantity': 20, 'measure': 'мл'},\n",
    "    {'ingridient_name': 'салат', 'quantity': 10, 'measure': 'гр'},\n",
    "    {'ingridient_name': 'перец', 'quantity': 20, 'measure': 'гр'}\n",
    "         ],\n",
    "'пицца': [\n",
    "    {'ingridient_name': 'сыр', 'quantity': 20, 'measure': 'гр'},\n",
    "    {'ingridient_name': 'колбаса', 'quantity': 30, 'measure': 'гр'},\n",
    "    {'ingridient_name': 'бекон', 'quantity': 30, 'measure': 'гр'},\n",
    "    {'ingridient_name': 'оливки', 'quantity': 10, 'measure': 'гр'},\n",
    "    {'ingridient_name': 'томаты', 'quantity': 20, 'measure': 'гр'},\n",
    "    {'ingridient_name': 'тесто', 'quantity': 100, 'measure': 'гр'},\n",
    "        ],\n",
    "'лимонад': [\n",
    "    {'ingridient_name': 'лимон', 'quantity': 1, 'measure': 'шт'},\n",
    "    {'ingridient_name': 'вода', 'quantity': 200, 'measure': 'мл'},\n",
    "    {'ingridient_name': 'сахар', 'quantity': 10, 'measure': 'гр'},\n",
    "    {'ingridient_name': 'лайм', 'quantity': 20, 'measure': 'гр'},\n",
    "]}"
   ]
  }
 ],
 "metadata": {
  "kernelspec": {
   "display_name": "Python 3",
   "language": "python",
   "name": "python3"
  },
  "language_info": {
   "codemirror_mode": {
    "name": "ipython",
    "version": 3
   },
   "file_extension": ".py",
   "mimetype": "text/x-python",
   "name": "python",
   "nbconvert_exporter": "python",
   "pygments_lexer": "ipython3",
   "version": "3.8.5"
  }
 },
 "nbformat": 4,
 "nbformat_minor": 4
}
