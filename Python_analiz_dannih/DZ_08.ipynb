{
 "cells": [
  {
   "cell_type": "markdown",
   "metadata": {},
   "source": [
    "### Задание 1\n",
    "\n",
    "*  Напишите функцию, которая принимает на вход строку и проверяет является ли она валидным транспортным номером (1 буква, 3 цифры, 2 буквы, 2-3 цифры). Обратите внимание, что не все буквы кириллического алфавита используются в транспортных номерах.\n",
    "\n",
    "*  Если номер валиден, то функция должна возвращать отдельно номер и регион.\n",
    "\n",
    "\n",
    "Примеры работы программы:\n",
    "\n",
    "1)  car_id = 'А222BС96’\n",
    "*  Результат: Номер А222BС валиден. Регион: 96\n",
    "\n",
    "2) car_id = 'АБ22ВВ193’\n",
    "*  Результат: Номер не валиден"
   ]
  },
  {
   "cell_type": "code",
   "execution_count": 3,
   "metadata": {},
   "outputs": [],
   "source": [
    "import re"
   ]
  },
  {
   "cell_type": "code",
   "execution_count": 125,
   "metadata": {},
   "outputs": [],
   "source": [
    "car_id = 'А222BС96'\n",
    "\n",
    "car_id1 = 'АБ22ВВ193'"
   ]
  },
  {
   "cell_type": "code",
   "execution_count": 133,
   "metadata": {},
   "outputs": [
    {
     "name": "stdout",
     "output_type": "stream",
     "text": [
      "Номер А222BС валиден. Регион 96\n"
     ]
    }
   ],
   "source": [
    "res = re.findall(r'[АВЕКМНОРСТУХABEKMHOPCTYX]{1}\\d{3}[АВЕКМНОРСТУХABEKMHOPCTYX]{2}\\d{2,3}', car_id)\n",
    "if res:\n",
    "    if len(res[0]) == 8:\n",
    "        print(f'Номер {res[0][:6]} валиден. Регион {res[0][-2:]}')\n",
    "    else:\n",
    "        print(f'Номер {res[0][:6]} валиден. Регион {res[0][-3:]}')\n",
    "else:\n",
    "    print('Номер не валиден')"
   ]
  },
  {
   "cell_type": "code",
   "execution_count": 4,
   "metadata": {},
   "outputs": [
    {
     "name": "stdout",
     "output_type": "stream",
     "text": [
      "Введите номер: А222BС96\n",
      "Номер не валиден\n"
     ]
    }
   ],
   "source": [
    "car_id = input('Введите номер: ')\n",
    "\n",
    "def check(carid):\n",
    "    pattern = r'([АВЕКМНОРСТУХ]\\d{3}[АВЕКМНОРСТУХ]{2})(\\d{2,3})'\n",
    "    result = re.match(pattern, carid)\n",
    "    if result:\n",
    "        print(f'Номер {result.group(1)} валиден. Регион: {result.group(2)}')\n",
    "    else:\n",
    "        print('Номер не валиден')\n",
    "\n",
    "check(car_id)"
   ]
  },
  {
   "cell_type": "markdown",
   "metadata": {},
   "source": [
    "### Задание 2\n",
    "\n",
    "* Напишите функцию, которая будет удалять все последовательные повторы слов из заданной строки при помощи регулярных выражений.\n",
    "\n",
    "Пример работы программы:\n",
    "\n",
    "*  some_string = ‘Напишите функцию функцию, которая будет будет будет будет удалять все все все все последовательные повторы слов из из из из заданной строки строки при помощи регулярных выражений’\n",
    "\n",
    "*  Результат: Напишите функцию, которая будет удалять все последовательные повторы слов из заданной строки при помощи регулярных выражений."
   ]
  },
  {
   "cell_type": "code",
   "execution_count": 127,
   "metadata": {},
   "outputs": [
    {
     "data": {
      "text/plain": [
       "'Напишите функцию, которая будет удалять все последовательные повторы слов из заданной строки при помощи регулярных выражений'"
      ]
     },
     "execution_count": 127,
     "metadata": {},
     "output_type": "execute_result"
    }
   ],
   "source": [
    "some_string = 'Напишите функцию функцию, которая будет будет будет будет удалять все все все все последовательные повторы \n",
    "слов из из из из заданной строки строки при помощи регулярных выражений'\n",
    "\n",
    "re.sub(r'\\b([^\\W\\d_]+)(\\s+\\1)+\\b', r'\\1', some_string) ### r'\\1' - заменяет найденное совпадение единичным экземпляром найденного слова"
   ]
  },
  {
   "cell_type": "markdown",
   "metadata": {},
   "source": [
    "### Задание 3\n",
    "\n",
    "*  Напишите функцию, которая будет возвращать акроним по переданной в нее строке со словами.\n",
    "\n",
    "\n",
    "Примеры работы программы:\n",
    "\n",
    "\n",
    "1) some_words = 'Информационные технологии’\n",
    "*  Результат: ИТ\n",
    "\n",
    "\n",
    "2)  some_words = 'Near Field Communication’\n",
    "*  Результат: NFC"
   ]
  },
  {
   "cell_type": "code",
   "execution_count": 128,
   "metadata": {},
   "outputs": [],
   "source": [
    "some_words1 = 'Информационные технологии'\n",
    "some_words2 = 'Near Field Communication'"
   ]
  },
  {
   "cell_type": "code",
   "execution_count": 135,
   "metadata": {
    "scrolled": false
   },
   "outputs": [
    {
     "data": {
      "text/plain": [
       "'ИТ'"
      ]
     },
     "execution_count": 135,
     "metadata": {},
     "output_type": "execute_result"
    }
   ],
   "source": [
    "def acronim(some_words):\n",
    "    output = re.sub(r'(\\w)(\\w+)', r'\\1', some_words)\n",
    "    return output.upper().replace(' ', '')\n",
    "emails = ['test@gmail.com, xyz@test.in, test@ya.ru, xyz@mail.ru, xyz@ya.ru, xyz@gmail.com']\n",
    "acronim(some_words1)"
   ]
  },
  {
   "cell_type": "markdown",
   "metadata": {},
   "source": [
    "### Задание 4\n",
    "\n",
    "*  Напишите функцию, которая будет принимать на вход список email-адресов и выводить их распределение по доменным зонам.\n",
    "\n",
    "Пример работы программы:\n",
    "\n",
    "*  emails = [‘test@gmail.com, xyz@test.in, test@ya.ru, xyz@mail.ru, xyz@ya.ru’, xyz@gmail.com]\n",
    "\n",
    "\n",
    "*  Результат:\n",
    "\n",
    "* gmail.com: 2\n",
    "* test.in: 1\n",
    "* ya.ru: 2\n",
    "* mail.ru: 1"
   ]
  },
  {
   "cell_type": "code",
   "execution_count": 7,
   "metadata": {},
   "outputs": [],
   "source": [
    "emails = ['test@gmail.com', 'xyz@test.in', 'test@ya.ru', 'xyz@mail.ru', 'xyz@ya.ru', 'xyz@gmail.com']"
   ]
  },
  {
   "cell_type": "code",
   "execution_count": 151,
   "metadata": {
    "scrolled": true
   },
   "outputs": [
    {
     "name": "stdout",
     "output_type": "stream",
     "text": [
      "gmail.com: 2\n",
      "test.in: 1\n",
      "ya.ru: 2\n",
      "mail.ru: 1\n"
     ]
    }
   ],
   "source": [
    "def count_domains(emails_):\n",
    "    x = {}\n",
    "                   #создаю пустой словарь. Далее Перебираю список по элементам и выделяю по шаблону. Меняю тип списка на строку\n",
    "                   #затем проверяю его наличие в словаре. Если нет - добавляю ключом, со значением 1. Если есть - прибавляю 1.\n",
    "            \n",
    "    for domain in emails_:\n",
    "        domain = ''.join(re.findall(r'@(\\w+.\\w+)', domain))\n",
    "    \n",
    "        if domain in x:\n",
    "            x[domain] += 1\n",
    "        else:\n",
    "            x[domain] = 1\n",
    "    \n",
    "    for key, value in x.items():\n",
    "        print(f\"{key}: {value}\")\n",
    "    \n",
    "    \n",
    "count_domains(emails)"
   ]
  },
  {
   "cell_type": "code",
   "execution_count": 8,
   "metadata": {},
   "outputs": [
    {
     "name": "stdout",
     "output_type": "stream",
     "text": [
      "gmail.com: 2\n",
      "mail.ru: 1\n",
      "test.in: 1\n",
      "ya.ru: 2\n"
     ]
    }
   ],
   "source": [
    "def count_domains(emails):\n",
    "    result = r'(\\w*\\d*)@(\\w*\\.\\w*)'\n",
    "    domains = [re.search(result, email).group(2) for email in emails]\n",
    "    for domain in set(domains):\n",
    "        print(f\"{domain}: {domains.count(domain)}\")\n",
    "\n",
    "count_domains(emails)"
   ]
  },
  {
   "cell_type": "markdown",
   "metadata": {},
   "source": [
    "### Задание 5 (необязательное)\n",
    "\n",
    "* Напишите функцию, которая будет подсчитывать сколько слов начинается на гласные, а сколько на согласные буквы в тексте (текст может быть написан как с использованием букв кириллицы, так и латиницы).\n",
    "\n",
    "Пример работы программы:\n",
    "\n",
    "*  some_text = ‘Эталонной реализацией Python является интерпретатор CPython, поддерживающий большинство активно используемых платформ. Он распространяется под свободной лицензией Python Software Foundation License, позволяющей использовать его без ограничений в любых приложениях, включая проприетарные.’\n",
    "\n",
    "* Результат:\n",
    "\n",
    "* Слов на гласные буквы: 9\n",
    "* Слов на согласные буквы: 21"
   ]
  },
  {
   "cell_type": "code",
   "execution_count": 154,
   "metadata": {},
   "outputs": [],
   "source": [
    "some_text = 'Эталонной реализацией Python является интерпретатор CPython, поддерживающий большинство активно используемых платформ. Он распространяется под свободной лицензией Python Software Foundation License, позволяющей использовать его без ограничений в любых приложениях, включая проприетарные.'"
   ]
  },
  {
   "cell_type": "code",
   "execution_count": 185,
   "metadata": {
    "scrolled": true
   },
   "outputs": [
    {
     "name": "stdout",
     "output_type": "stream",
     "text": [
      "Слов на гласные буквы: 9 Слов на согласные буквы: 21\n"
     ]
    }
   ],
   "source": [
    "def count_simbol(some_text):\n",
    "    vowel = r'\\b[аеёиоыэюяaeiouyАЕЁИОЫЭЮЯAEIOUY]'\n",
    "    consonant = r'\\b[бвгджзйклмнпрстфхцшщbcdfghjklmnpqrstvwxzБВГДЖЗЙКЛМНПРСТФХЦШЩBCDFGHJKLMNPQRSTVWXZ]'\n",
    "    print(f'Слов на гласные буквы: {len(re.findall(vowel, some_text))} Слов на согласные буквы: {len(re.findall(consonant, some_text))}')\n",
    "count_simbol(some_text)"
   ]
  },
  {
   "cell_type": "markdown",
   "metadata": {},
   "source": [
    "### Задание 6 (необязательное)\n",
    "\n",
    "*  Напишите функцию, которая будет проверять номер сотового телефона на валидность, если он валиден, то переводить его в формат:\n",
    "+7-xxx-xxx-xx-xx\n",
    "\n",
    "*  Постарайтесь предусмотреть как можно больше адекватных форматов изначального ввода номера. Примеры работы программы:\n",
    "\n",
    "1) phone = '+7 955 555-55-55’\n",
    "* Результат: +7-950-555-55-55\n",
    "\n",
    "2) phone = '8(955)555-55-55’\n",
    "* Результат: +7-950-555-55-55\n",
    "\n",
    "3) phone = '+7 955 555 55 55’\n",
    "* Результат: +7-950-555-55-55\n",
    "\n",
    "4) phone = '7(955) 555-55-55’\n",
    "* Результат: +7-950-555-55-55\n",
    "\n",
    "5) phone = '423-555-55-5555’\n",
    "* Результат: Номер не валиден\n",
    "\n",
    "6) phone = '123-456-789’\n",
    "* Результат: Номер не валиден"
   ]
  },
  {
   "cell_type": "code",
   "execution_count": 201,
   "metadata": {},
   "outputs": [],
   "source": [
    "def validation_phone(phone):\n",
    "    pattern = r'\\b[\\W78](\\W*|\\s*)([9]\\d{2})(\\W*|\\s*)(\\d{3})(\\W*|\\s*)(\\d{2})(\\W*|\\s*)(\\d{2})'\n",
    "    result = re.search(pattern, phone)\n",
    "    if re.findall(pattern, phone):\n",
    "        return print(f'+7-{result.group(2)}-{result.group(4)}-{result.group(6)}-{result.group(8)}')\n",
    "    return print('Номер не валиден')"
   ]
  },
  {
   "cell_type": "code",
   "execution_count": 202,
   "metadata": {
    "scrolled": true
   },
   "outputs": [
    {
     "name": "stdout",
     "output_type": "stream",
     "text": [
      "+7-955-555-55-55\n"
     ]
    }
   ],
   "source": [
    "validation_phone('+7 955 555-55-55')"
   ]
  },
  {
   "cell_type": "code",
   "execution_count": 203,
   "metadata": {},
   "outputs": [
    {
     "name": "stdout",
     "output_type": "stream",
     "text": [
      "+7-955-555-55-55\n"
     ]
    }
   ],
   "source": [
    "validation_phone('8(955)555-55-55')"
   ]
  },
  {
   "cell_type": "code",
   "execution_count": 204,
   "metadata": {},
   "outputs": [
    {
     "name": "stdout",
     "output_type": "stream",
     "text": [
      "+7-955-555-55-55\n"
     ]
    }
   ],
   "source": [
    "validation_phone('+7 955 555 55 55')"
   ]
  },
  {
   "cell_type": "code",
   "execution_count": 205,
   "metadata": {},
   "outputs": [
    {
     "name": "stdout",
     "output_type": "stream",
     "text": [
      "+7-955-555-55-55\n"
     ]
    }
   ],
   "source": [
    "validation_phone('7(955) 555-55-55')"
   ]
  },
  {
   "cell_type": "code",
   "execution_count": 206,
   "metadata": {},
   "outputs": [
    {
     "name": "stdout",
     "output_type": "stream",
     "text": [
      "Номер не валиден\n"
     ]
    }
   ],
   "source": [
    "validation_phone('423-555-55-5555')"
   ]
  },
  {
   "cell_type": "code",
   "execution_count": 207,
   "metadata": {},
   "outputs": [
    {
     "name": "stdout",
     "output_type": "stream",
     "text": [
      "Номер не валиден\n"
     ]
    }
   ],
   "source": [
    "validation_phone('123-456-789')"
   ]
  }
 ],
 "metadata": {
  "kernelspec": {
   "display_name": "Python 3",
   "language": "python",
   "name": "python3"
  },
  "language_info": {
   "codemirror_mode": {
    "name": "ipython",
    "version": 3
   },
   "file_extension": ".py",
   "mimetype": "text/x-python",
   "name": "python",
   "nbconvert_exporter": "python",
   "pygments_lexer": "ipython3",
   "version": "3.8.5"
  }
 },
 "nbformat": 4,
 "nbformat_minor": 4
}
