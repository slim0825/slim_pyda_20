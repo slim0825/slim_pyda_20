{
 "cells": [
  {
   "cell_type": "code",
   "execution_count": 1,
   "metadata": {},
   "outputs": [],
   "source": [
    "import findspark\n",
    "findspark.init()\n",
    "from pyspark.sql import SparkSession\n",
    "\n",
    "spark = SparkSession.builder.master(\"local[*]\").getOrCreate()"
   ]
  },
  {
   "cell_type": "code",
   "execution_count": 2,
   "metadata": {},
   "outputs": [],
   "source": [
    "df = spark.read.csv('iris.csv', header=True, inferSchema=True)"
   ]
  },
  {
   "cell_type": "code",
   "execution_count": 3,
   "metadata": {
    "scrolled": true
   },
   "outputs": [
    {
     "name": "stdout",
     "output_type": "stream",
     "text": [
      "+------------+-----------+------------+-----------+-------+-----------+\n",
      "|sepal_length|sepal_width|petal_length|petal_width|variety|variety_num|\n",
      "+------------+-----------+------------+-----------+-------+-----------+\n",
      "|         5.1|        3.5|         1.4|        0.2| Setosa|          0|\n",
      "|         4.9|        3.0|         1.4|        0.2| Setosa|          0|\n",
      "|         4.7|        3.2|         1.3|        0.2| Setosa|          0|\n",
      "|         4.6|        3.1|         1.5|        0.2| Setosa|          0|\n",
      "|         5.0|        3.6|         1.4|        0.2| Setosa|          0|\n",
      "|         5.4|        3.9|         1.7|        0.4| Setosa|          0|\n",
      "|         4.6|        3.4|         1.4|        0.3| Setosa|          0|\n",
      "|         5.0|        3.4|         1.5|        0.2| Setosa|          0|\n",
      "|         4.4|        2.9|         1.4|        0.2| Setosa|          0|\n",
      "|         4.9|        3.1|         1.5|        0.1| Setosa|          0|\n",
      "|         5.4|        3.7|         1.5|        0.2| Setosa|          0|\n",
      "|         4.8|        3.4|         1.6|        0.2| Setosa|          0|\n",
      "|         4.8|        3.0|         1.4|        0.1| Setosa|          0|\n",
      "|         4.3|        3.0|         1.1|        0.1| Setosa|          0|\n",
      "|         5.8|        4.0|         1.2|        0.2| Setosa|          0|\n",
      "|         5.7|        4.4|         1.5|        0.4| Setosa|          0|\n",
      "|         5.4|        3.9|         1.3|        0.4| Setosa|          0|\n",
      "|         5.1|        3.5|         1.4|        0.3| Setosa|          0|\n",
      "|         5.7|        3.8|         1.7|        0.3| Setosa|          0|\n",
      "|         5.1|        3.8|         1.5|        0.3| Setosa|          0|\n",
      "+------------+-----------+------------+-----------+-------+-----------+\n",
      "only showing top 20 rows\n",
      "\n"
     ]
    }
   ],
   "source": [
    "df.show()"
   ]
  },
  {
   "cell_type": "code",
   "execution_count": 19,
   "metadata": {},
   "outputs": [],
   "source": [
    "### Собираем в единый вектор для работы машинного обучения"
   ]
  },
  {
   "cell_type": "code",
   "execution_count": 4,
   "metadata": {},
   "outputs": [],
   "source": [
    "from pyspark.ml.linalg import Vectors\n",
    "from pyspark.ml.feature import VectorAssembler"
   ]
  },
  {
   "cell_type": "code",
   "execution_count": 5,
   "metadata": {},
   "outputs": [],
   "source": [
    "assembler = VectorAssembler(inputCols=['sepal_length', 'sepal_width', 'petal_length', 'petal_width'], outputCol=\"features\")"
   ]
  },
  {
   "cell_type": "code",
   "execution_count": 6,
   "metadata": {},
   "outputs": [
    {
     "name": "stdout",
     "output_type": "stream",
     "text": [
      "+------------+-----------+------------+-----------+-------+-----------+-----------------+\n",
      "|sepal_length|sepal_width|petal_length|petal_width|variety|variety_num|         features|\n",
      "+------------+-----------+------------+-----------+-------+-----------+-----------------+\n",
      "|         5.1|        3.5|         1.4|        0.2| Setosa|          0|[5.1,3.5,1.4,0.2]|\n",
      "|         4.9|        3.0|         1.4|        0.2| Setosa|          0|[4.9,3.0,1.4,0.2]|\n",
      "|         4.7|        3.2|         1.3|        0.2| Setosa|          0|[4.7,3.2,1.3,0.2]|\n",
      "|         4.6|        3.1|         1.5|        0.2| Setosa|          0|[4.6,3.1,1.5,0.2]|\n",
      "|         5.0|        3.6|         1.4|        0.2| Setosa|          0|[5.0,3.6,1.4,0.2]|\n",
      "|         5.4|        3.9|         1.7|        0.4| Setosa|          0|[5.4,3.9,1.7,0.4]|\n",
      "|         4.6|        3.4|         1.4|        0.3| Setosa|          0|[4.6,3.4,1.4,0.3]|\n",
      "|         5.0|        3.4|         1.5|        0.2| Setosa|          0|[5.0,3.4,1.5,0.2]|\n",
      "|         4.4|        2.9|         1.4|        0.2| Setosa|          0|[4.4,2.9,1.4,0.2]|\n",
      "|         4.9|        3.1|         1.5|        0.1| Setosa|          0|[4.9,3.1,1.5,0.1]|\n",
      "|         5.4|        3.7|         1.5|        0.2| Setosa|          0|[5.4,3.7,1.5,0.2]|\n",
      "|         4.8|        3.4|         1.6|        0.2| Setosa|          0|[4.8,3.4,1.6,0.2]|\n",
      "|         4.8|        3.0|         1.4|        0.1| Setosa|          0|[4.8,3.0,1.4,0.1]|\n",
      "|         4.3|        3.0|         1.1|        0.1| Setosa|          0|[4.3,3.0,1.1,0.1]|\n",
      "|         5.8|        4.0|         1.2|        0.2| Setosa|          0|[5.8,4.0,1.2,0.2]|\n",
      "|         5.7|        4.4|         1.5|        0.4| Setosa|          0|[5.7,4.4,1.5,0.4]|\n",
      "|         5.4|        3.9|         1.3|        0.4| Setosa|          0|[5.4,3.9,1.3,0.4]|\n",
      "|         5.1|        3.5|         1.4|        0.3| Setosa|          0|[5.1,3.5,1.4,0.3]|\n",
      "|         5.7|        3.8|         1.7|        0.3| Setosa|          0|[5.7,3.8,1.7,0.3]|\n",
      "|         5.1|        3.8|         1.5|        0.3| Setosa|          0|[5.1,3.8,1.5,0.3]|\n",
      "+------------+-----------+------------+-----------+-------+-----------+-----------------+\n",
      "only showing top 20 rows\n",
      "\n"
     ]
    }
   ],
   "source": [
    "df = assembler.transform(df)\n",
    "df.show()"
   ]
  },
  {
   "cell_type": "code",
   "execution_count": 20,
   "metadata": {},
   "outputs": [],
   "source": [
    "### Разобьем данные на данные для обучения и проверки"
   ]
  },
  {
   "cell_type": "code",
   "execution_count": 7,
   "metadata": {},
   "outputs": [],
   "source": [
    "train, test = df.randomSplit([0.8, 0.2], seed=12345)"
   ]
  },
  {
   "cell_type": "code",
   "execution_count": 8,
   "metadata": {
    "scrolled": true
   },
   "outputs": [
    {
     "name": "stdout",
     "output_type": "stream",
     "text": [
      "+------------+-----------+------------+-----------+----------+-----------+-----------------+\n",
      "|sepal_length|sepal_width|petal_length|petal_width|   variety|variety_num|         features|\n",
      "+------------+-----------+------------+-----------+----------+-----------+-----------------+\n",
      "|         4.3|        3.0|         1.1|        0.1|    Setosa|          0|[4.3,3.0,1.1,0.1]|\n",
      "|         4.4|        2.9|         1.4|        0.2|    Setosa|          0|[4.4,2.9,1.4,0.2]|\n",
      "|         4.4|        3.0|         1.3|        0.2|    Setosa|          0|[4.4,3.0,1.3,0.2]|\n",
      "|         4.4|        3.2|         1.3|        0.2|    Setosa|          0|[4.4,3.2,1.3,0.2]|\n",
      "|         4.5|        2.3|         1.3|        0.3|    Setosa|          0|[4.5,2.3,1.3,0.3]|\n",
      "|         4.6|        3.1|         1.5|        0.2|    Setosa|          0|[4.6,3.1,1.5,0.2]|\n",
      "|         4.6|        3.4|         1.4|        0.3|    Setosa|          0|[4.6,3.4,1.4,0.3]|\n",
      "|         4.6|        3.6|         1.0|        0.2|    Setosa|          0|[4.6,3.6,1.0,0.2]|\n",
      "|         4.7|        3.2|         1.3|        0.2|    Setosa|          0|[4.7,3.2,1.3,0.2]|\n",
      "|         4.7|        3.2|         1.6|        0.2|    Setosa|          0|[4.7,3.2,1.6,0.2]|\n",
      "|         4.8|        3.0|         1.4|        0.1|    Setosa|          0|[4.8,3.0,1.4,0.1]|\n",
      "|         4.8|        3.0|         1.4|        0.3|    Setosa|          0|[4.8,3.0,1.4,0.3]|\n",
      "|         4.8|        3.1|         1.6|        0.2|    Setosa|          0|[4.8,3.1,1.6,0.2]|\n",
      "|         4.8|        3.4|         1.6|        0.2|    Setosa|          0|[4.8,3.4,1.6,0.2]|\n",
      "|         4.8|        3.4|         1.9|        0.2|    Setosa|          0|[4.8,3.4,1.9,0.2]|\n",
      "|         4.9|        2.4|         3.3|        1.0|Versicolor|          1|[4.9,2.4,3.3,1.0]|\n",
      "|         4.9|        2.5|         4.5|        1.7| Virginica|          2|[4.9,2.5,4.5,1.7]|\n",
      "|         4.9|        3.0|         1.4|        0.2|    Setosa|          0|[4.9,3.0,1.4,0.2]|\n",
      "|         4.9|        3.1|         1.5|        0.1|    Setosa|          0|[4.9,3.1,1.5,0.1]|\n",
      "|         4.9|        3.1|         1.5|        0.2|    Setosa|          0|[4.9,3.1,1.5,0.2]|\n",
      "+------------+-----------+------------+-----------+----------+-----------+-----------------+\n",
      "only showing top 20 rows\n",
      "\n"
     ]
    }
   ],
   "source": [
    "train.show()"
   ]
  },
  {
   "cell_type": "code",
   "execution_count": 21,
   "metadata": {},
   "outputs": [],
   "source": [
    "### Создадим и обучим модель логистической регрессии"
   ]
  },
  {
   "cell_type": "code",
   "execution_count": 9,
   "metadata": {},
   "outputs": [],
   "source": [
    "from pyspark.ml.classification import LogisticRegression"
   ]
  },
  {
   "cell_type": "code",
   "execution_count": 10,
   "metadata": {},
   "outputs": [],
   "source": [
    "lr = LogisticRegression(featuresCol = 'features', labelCol = 'variety_num')\n",
    "lrModel = lr.fit(train)"
   ]
  },
  {
   "cell_type": "code",
   "execution_count": 11,
   "metadata": {},
   "outputs": [],
   "source": [
    "train_res = lrModel.transform(train)\n",
    "test_res = lrModel.transform(test)"
   ]
  },
  {
   "cell_type": "code",
   "execution_count": 12,
   "metadata": {
    "scrolled": true
   },
   "outputs": [
    {
     "name": "stdout",
     "output_type": "stream",
     "text": [
      "+------------+-----------+------------+-----------+----------+-----------+-----------------+--------------------+--------------------+----------+\n",
      "|sepal_length|sepal_width|petal_length|petal_width|   variety|variety_num|         features|       rawPrediction|         probability|prediction|\n",
      "+------------+-----------+------------+-----------+----------+-----------+-----------------+--------------------+--------------------+----------+\n",
      "|         4.3|        3.0|         1.1|        0.1|    Setosa|          0|[4.3,3.0,1.1,0.1]|[80.1628043651858...|[1.0,1.2550034261...|       0.0|\n",
      "|         4.4|        2.9|         1.4|        0.2|    Setosa|          0|[4.4,2.9,1.4,0.2]|[64.6334644328493...|[1.0,1.5146031885...|       0.0|\n",
      "|         4.4|        3.0|         1.3|        0.2|    Setosa|          0|[4.4,3.0,1.3,0.2]|[71.698654399708,...|[1.0,8.1567961584...|       0.0|\n",
      "|         4.4|        3.2|         1.3|        0.2|    Setosa|          0|[4.4,3.2,1.3,0.2]|[82.5540433395515...|[1.0,1.3787523272...|       0.0|\n",
      "|         4.5|        2.3|         1.3|        0.3|    Setosa|          0|[4.5,2.3,1.3,0.3]|[28.5156341386512...|[0.99999999541873...|       0.0|\n",
      "|         4.6|        3.1|         1.5|        0.2|    Setosa|          0|[4.6,3.1,1.5,0.2]|[70.9122674461520...|[1.0,1.9918557603...|       0.0|\n",
      "|         4.6|        3.4|         1.4|        0.3|    Setosa|          0|[4.6,3.4,1.4,0.3]|[85.1132325960520...|[1.0,2.0029952405...|       0.0|\n",
      "|         4.6|        3.6|         1.0|        0.2|    Setosa|          0|[4.6,3.6,1.0,0.2]|[106.238217280445...|[1.0,9.0232210828...|       0.0|\n",
      "|         4.7|        3.2|         1.3|        0.2|    Setosa|          0|[4.7,3.2,1.3,0.2]|[78.1454076951454...|[1.0,1.4185052260...|       0.0|\n",
      "|         4.7|        3.2|         1.6|        0.2|    Setosa|          0|[4.7,3.2,1.6,0.2]|[73.2329212043349...|[1.0,6.3112979978...|       0.0|\n",
      "|         4.8|        3.0|         1.4|        0.1|    Setosa|          0|[4.8,3.0,1.4,0.1]|[67.9025918003652...|[1.0,5.8547334449...|       0.0|\n",
      "|         4.8|        3.0|         1.4|        0.3|    Setosa|          0|[4.8,3.0,1.4,0.3]|[60.4633642867608...|[1.0,7.1445751151...|       0.0|\n",
      "|         4.8|        3.1|         1.6|        0.2|    Setosa|          0|[4.8,3.1,1.6,0.2]|[66.3356815196111...|[1.0,1.5497093589...|       0.0|\n",
      "|         4.8|        3.4|         1.6|        0.2|    Setosa|          0|[4.8,3.4,1.6,0.2]|[82.6187649293765...|[1.0,1.0769616279...|       0.0|\n",
      "|         4.8|        3.4|         1.9|        0.2|    Setosa|          0|[4.8,3.4,1.9,0.2]|[77.7062784385659...|[1.0,4.7916818644...|       0.0|\n",
      "|         4.9|        2.4|         3.3|        1.0|Versicolor|          1|[4.9,2.4,3.3,1.0]|[-30.722058486987...|[5.63218754176710...|       1.0|\n",
      "|         4.9|        2.5|         4.5|        1.7| Virginica|          2|[4.9,2.5,4.5,1.7]|[-70.981606277922...|[1.71161891295692...|       2.0|\n",
      "|         4.9|        3.0|         1.4|        0.2|    Setosa|          0|[4.9,3.0,1.4,0.2]|[62.7134328287609...|[1.0,6.5291502201...|       0.0|\n",
      "|         4.9|        3.1|         1.5|        0.1|    Setosa|          0|[4.9,3.1,1.5,0.1]|[70.2232455585481...|[1.0,1.8551025734...|       0.0|\n",
      "|         4.9|        3.1|         1.5|        0.2|    Setosa|          0|[4.9,3.1,1.5,0.2]|[66.5036318017459...|[1.0,2.0492859737...|       0.0|\n",
      "+------------+-----------+------------+-----------+----------+-----------+-----------------+--------------------+--------------------+----------+\n",
      "only showing top 20 rows\n",
      "\n"
     ]
    }
   ],
   "source": [
    "train_res.show()"
   ]
  },
  {
   "cell_type": "code",
   "execution_count": null,
   "metadata": {},
   "outputs": [],
   "source": [
    "### Оценим качество предсказания"
   ]
  },
  {
   "cell_type": "code",
   "execution_count": 13,
   "metadata": {},
   "outputs": [],
   "source": [
    "from pyspark.ml.evaluation import MulticlassClassificationEvaluator"
   ]
  },
  {
   "cell_type": "code",
   "execution_count": 14,
   "metadata": {},
   "outputs": [],
   "source": [
    "ev = MulticlassClassificationEvaluator(labelCol='variety_num')"
   ]
  },
  {
   "cell_type": "code",
   "execution_count": 15,
   "metadata": {},
   "outputs": [
    {
     "data": {
      "text/plain": [
       "0.9844961240310077"
      ]
     },
     "execution_count": 15,
     "metadata": {},
     "output_type": "execute_result"
    }
   ],
   "source": [
    "ev.evaluate(train_res)"
   ]
  },
  {
   "cell_type": "code",
   "execution_count": 16,
   "metadata": {},
   "outputs": [
    {
     "data": {
      "text/plain": [
       "1.0"
      ]
     },
     "execution_count": 16,
     "metadata": {},
     "output_type": "execute_result"
    }
   ],
   "source": [
    "ev.evaluate(test_res)"
   ]
  },
  {
   "cell_type": "code",
   "execution_count": null,
   "metadata": {},
   "outputs": [],
   "source": [
    "### Обучаем модель дерева решений и оцениваем его качество"
   ]
  },
  {
   "cell_type": "code",
   "execution_count": 17,
   "metadata": {},
   "outputs": [],
   "source": [
    "from pyspark.ml.classification import DecisionTreeClassifier"
   ]
  },
  {
   "cell_type": "code",
   "execution_count": 18,
   "metadata": {},
   "outputs": [],
   "source": [
    "tr = DecisionTreeClassifier(featuresCol = 'features', labelCol = 'variety_num')"
   ]
  },
  {
   "cell_type": "code",
   "execution_count": 19,
   "metadata": {},
   "outputs": [],
   "source": [
    "trFitted = tr.fit(train)"
   ]
  },
  {
   "cell_type": "code",
   "execution_count": 20,
   "metadata": {},
   "outputs": [],
   "source": [
    "train_tr_res = trFitted.transform(train)\n",
    "test_tr_res = trFitted.transform(test)"
   ]
  },
  {
   "cell_type": "code",
   "execution_count": 22,
   "metadata": {},
   "outputs": [
    {
     "name": "stdout",
     "output_type": "stream",
     "text": [
      "+------------+-----------+------------+-----------+-------+-----------+-----------------+--------------+-------------+----------+\n",
      "|sepal_length|sepal_width|petal_length|petal_width|variety|variety_num|         features| rawPrediction|  probability|prediction|\n",
      "+------------+-----------+------------+-----------+-------+-----------+-----------------+--------------+-------------+----------+\n",
      "|         4.3|        3.0|         1.1|        0.1| Setosa|          0|[4.3,3.0,1.1,0.1]|[43.0,0.0,0.0]|[1.0,0.0,0.0]|       0.0|\n",
      "|         4.4|        2.9|         1.4|        0.2| Setosa|          0|[4.4,2.9,1.4,0.2]|[43.0,0.0,0.0]|[1.0,0.0,0.0]|       0.0|\n",
      "|         4.4|        3.0|         1.3|        0.2| Setosa|          0|[4.4,3.0,1.3,0.2]|[43.0,0.0,0.0]|[1.0,0.0,0.0]|       0.0|\n",
      "|         4.4|        3.2|         1.3|        0.2| Setosa|          0|[4.4,3.2,1.3,0.2]|[43.0,0.0,0.0]|[1.0,0.0,0.0]|       0.0|\n",
      "|         4.5|        2.3|         1.3|        0.3| Setosa|          0|[4.5,2.3,1.3,0.3]|[43.0,0.0,0.0]|[1.0,0.0,0.0]|       0.0|\n",
      "+------------+-----------+------------+-----------+-------+-----------+-----------------+--------------+-------------+----------+\n",
      "only showing top 5 rows\n",
      "\n"
     ]
    }
   ],
   "source": [
    "train_tr_res.show(5)"
   ]
  },
  {
   "cell_type": "code",
   "execution_count": 23,
   "metadata": {},
   "outputs": [
    {
     "data": {
      "text/plain": [
       "1.0"
      ]
     },
     "execution_count": 23,
     "metadata": {},
     "output_type": "execute_result"
    }
   ],
   "source": [
    "ev.evaluate(test_tr_res)"
   ]
  },
  {
   "cell_type": "code",
   "execution_count": 24,
   "metadata": {},
   "outputs": [
    {
     "data": {
      "text/plain": [
       "0.9922428036123125"
      ]
     },
     "execution_count": 24,
     "metadata": {},
     "output_type": "execute_result"
    }
   ],
   "source": [
    "ev.evaluate(train_tr_res)"
   ]
  }
 ],
 "metadata": {
  "kernelspec": {
   "display_name": "Python 3",
   "language": "python",
   "name": "python3"
  },
  "language_info": {
   "codemirror_mode": {
    "name": "ipython",
    "version": 3
   },
   "file_extension": ".py",
   "mimetype": "text/x-python",
   "name": "python",
   "nbconvert_exporter": "python",
   "pygments_lexer": "ipython3",
   "version": "3.8.5"
  }
 },
 "nbformat": 4,
 "nbformat_minor": 4
}
