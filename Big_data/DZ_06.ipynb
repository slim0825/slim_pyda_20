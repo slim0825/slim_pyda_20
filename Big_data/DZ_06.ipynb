{
 "cells": [
  {
   "cell_type": "markdown",
   "metadata": {
    "colab_type": "text",
    "id": "mc57t-wnPvuT"
   },
   "source": [
    "## Установка PySpark"
   ]
  },
  {
   "cell_type": "code",
   "execution_count": 1,
   "metadata": {
    "colab": {},
    "colab_type": "code",
    "executionInfo": {
     "elapsed": 83426,
     "status": "ok",
     "timestamp": 1597950610660,
     "user": {
      "displayName": "Алексей Кузьмин",
      "photoUrl": "",
      "userId": "13824739836143424630"
     },
     "user_tz": -180
    },
    "id": "u5l80lXABhkh"
   },
   "outputs": [
    {
     "name": "stdout",
     "output_type": "stream",
     "text": [
      "Note: you may need to restart the kernel to use updated packages.\n"
     ]
    }
   ],
   "source": [
    "pip install -q findspark"
   ]
  },
  {
   "cell_type": "code",
   "execution_count": 9,
   "metadata": {
    "colab": {},
    "colab_type": "code",
    "executionInfo": {
     "elapsed": 82848,
     "status": "ok",
     "timestamp": 1597950610661,
     "user": {
      "displayName": "Алексей Кузьмин",
      "photoUrl": "",
      "userId": "13824739836143424630"
     },
     "user_tz": -180
    },
    "id": "OzLOKCzbBk2O"
   },
   "outputs": [],
   "source": [
    "import os\n",
    "os.environ[\"JAVA_HOME\"] = \"/usr/lib/jvm/java-8-openjdk-amd64\"\n",
    "os.environ[\"SPARK_HOME\"] = \"/content/spark-2.4.6-bin-hadoop2.7\""
   ]
  },
  {
   "cell_type": "code",
   "execution_count": 2,
   "metadata": {
    "colab": {},
    "colab_type": "code",
    "executionInfo": {
     "elapsed": 87694,
     "status": "ok",
     "timestamp": 1597950615957,
     "user": {
      "displayName": "Алексей Кузьмин",
      "photoUrl": "",
      "userId": "13824739836143424630"
     },
     "user_tz": -180
    },
    "id": "1pSrW3TfBnX1"
   },
   "outputs": [],
   "source": [
    "import findspark\n",
    "findspark.init()\n",
    "from pyspark.sql import SparkSession\n",
    "\n",
    "spark = SparkSession.builder.master(\"local[*]\").getOrCreate()"
   ]
  },
  {
   "cell_type": "markdown",
   "metadata": {
    "colab_type": "text",
    "id": "ET5O_hjXP1mQ"
   },
   "source": [
    "## Загрузите данные при помощи spark.read.csv из приложенного файла"
   ]
  },
  {
   "cell_type": "code",
   "execution_count": 3,
   "metadata": {
    "colab": {},
    "colab_type": "code",
    "executionInfo": {
     "elapsed": 873,
     "status": "ok",
     "timestamp": 1597930727900,
     "user": {
      "displayName": "Алексей Кузьмин",
      "photoUrl": "",
      "userId": "13824739836143424630"
     },
     "user_tz": -180
    },
    "id": "dU4NSXjdBrYL"
   },
   "outputs": [],
   "source": [
    "df_iris = spark.read.csv('iris.csv', inferSchema=True, header=True)"
   ]
  },
  {
   "cell_type": "code",
   "execution_count": 4,
   "metadata": {
    "colab": {
     "base_uri": "https://localhost:8080/",
     "height": 204
    },
    "colab_type": "code",
    "executionInfo": {
     "elapsed": 1101,
     "status": "ok",
     "timestamp": 1597930728466,
     "user": {
      "displayName": "Алексей Кузьмин",
      "photoUrl": "",
      "userId": "13824739836143424630"
     },
     "user_tz": -180
    },
    "id": "hWYpVRxpByHH",
    "outputId": "7fda0760-bad4-44a7-e8f4-1f79ab2f0c61"
   },
   "outputs": [
    {
     "name": "stdout",
     "output_type": "stream",
     "text": [
      "+------------+-----------+------------+-----------+-------+-----------+\n",
      "|sepal_length|sepal_width|petal_length|petal_width|variety|variety_num|\n",
      "+------------+-----------+------------+-----------+-------+-----------+\n",
      "|         5.1|        3.5|         1.4|        0.2| Setosa|          0|\n",
      "|         4.9|        3.0|         1.4|        0.2| Setosa|          0|\n",
      "|         4.7|        3.2|         1.3|        0.2| Setosa|          0|\n",
      "|         4.6|        3.1|         1.5|        0.2| Setosa|          0|\n",
      "|         5.0|        3.6|         1.4|        0.2| Setosa|          0|\n",
      "+------------+-----------+------------+-----------+-------+-----------+\n",
      "only showing top 5 rows\n",
      "\n"
     ]
    }
   ],
   "source": [
    "df_iris.show(5)"
   ]
  },
  {
   "cell_type": "markdown",
   "metadata": {
    "colab_type": "text",
    "id": "0d-mTjYiQAuF"
   },
   "source": [
    "## Воспользуйтесь командами groupBy, max, min и avg, чтобы вывести максимальное минимальное и среднее значние каждого из аттрбутов цветка ('sepal_length','sepal_width','petal_length','petal_width')"
   ]
  },
  {
   "cell_type": "code",
   "execution_count": 24,
   "metadata": {},
   "outputs": [
    {
     "name": "stdout",
     "output_type": "stream",
     "text": [
      "+----------+-----------------+----------------+-----------------+----------------+\n",
      "|   variety|max(sepal_length)|max(sepal_width)|max(petal_length)|max(petal_width)|\n",
      "+----------+-----------------+----------------+-----------------+----------------+\n",
      "| Virginica|              7.9|             3.8|              6.9|             2.5|\n",
      "|    Setosa|              5.8|             4.4|              1.9|             0.6|\n",
      "|Versicolor|              7.0|             3.4|              5.1|             1.8|\n",
      "+----------+-----------------+----------------+-----------------+----------------+\n",
      "\n"
     ]
    }
   ],
   "source": [
    "df_max = df_iris.groupBy('variety')\n",
    "df_max.max('sepal_length', 'sepal_width', 'petal_length', 'petal_width').show()"
   ]
  },
  {
   "cell_type": "code",
   "execution_count": 25,
   "metadata": {},
   "outputs": [
    {
     "name": "stdout",
     "output_type": "stream",
     "text": [
      "+----------+-----------------+----------------+-----------------+----------------+\n",
      "|   variety|min(sepal_length)|min(sepal_width)|min(petal_length)|min(petal_width)|\n",
      "+----------+-----------------+----------------+-----------------+----------------+\n",
      "| Virginica|              4.9|             2.2|              4.5|             1.4|\n",
      "|    Setosa|              4.3|             2.3|              1.0|             0.1|\n",
      "|Versicolor|              4.9|             2.0|              3.0|             1.0|\n",
      "+----------+-----------------+----------------+-----------------+----------------+\n",
      "\n"
     ]
    }
   ],
   "source": [
    "df_min = df_iris.groupBy('variety')\n",
    "df_min.min('sepal_length', 'sepal_width', 'petal_length', 'petal_width').show()"
   ]
  },
  {
   "cell_type": "code",
   "execution_count": 26,
   "metadata": {},
   "outputs": [
    {
     "name": "stdout",
     "output_type": "stream",
     "text": [
      "+----------+-----------------+------------------+------------------+------------------+\n",
      "|   variety|avg(sepal_length)|  avg(sepal_width)| avg(petal_length)|  avg(petal_width)|\n",
      "+----------+-----------------+------------------+------------------+------------------+\n",
      "| Virginica|6.587999999999998|2.9739999999999998|             5.552|             2.026|\n",
      "|    Setosa|5.005999999999999| 3.428000000000001|1.4620000000000002|0.2459999999999999|\n",
      "|Versicolor|            5.936|2.7700000000000005|              4.26|1.3259999999999998|\n",
      "+----------+-----------------+------------------+------------------+------------------+\n",
      "\n"
     ]
    }
   ],
   "source": [
    "df_avg = df_iris.groupBy('variety')\n",
    "df_avg.avg('sepal_length', 'sepal_width', 'petal_length', 'petal_width').show()"
   ]
  },
  {
   "cell_type": "code",
   "execution_count": 8,
   "metadata": {
    "colab": {},
    "colab_type": "code",
    "executionInfo": {
     "elapsed": 1264,
     "status": "ok",
     "timestamp": 1597930753692,
     "user": {
      "displayName": "Алексей Кузьмин",
      "photoUrl": "",
      "userId": "13824739836143424630"
     },
     "user_tz": -180
    },
    "id": "hFHLu0GeB9G6"
   },
   "outputs": [],
   "source": [
    "import matplotlib.pyplot as plt"
   ]
  },
  {
   "cell_type": "code",
   "execution_count": 10,
   "metadata": {
    "colab": {
     "base_uri": "https://localhost:8080/",
     "height": 285
    },
    "colab_type": "code",
    "executionInfo": {
     "elapsed": 1012,
     "status": "ok",
     "timestamp": 1597930924749,
     "user": {
      "displayName": "Алексей Кузьмин",
      "photoUrl": "",
      "userId": "13824739836143424630"
     },
     "user_tz": -180
    },
    "id": "dz2jOZxCB9W6",
    "outputId": "550899b7-db50-4aa8-a927-eaabdc36a86e"
   },
   "outputs": [
    {
     "data": {
      "text/plain": [
       "<matplotlib.collections.PathCollection at 0x1a4b6713b20>"
      ]
     },
     "execution_count": 10,
     "metadata": {},
     "output_type": "execute_result"
    },
    {
     "data": {
      "image/png": "[encoded data removed]",
      "text/plain": [
       "<Figure size 432x288 with 1 Axes>"
      ]
     },
     "metadata": {
      "needs_background": "light"
     },
     "output_type": "display_data"
    }
   ],
   "source": [
    "plt.scatter(df_iris[['sepal_length']].collect(), df_iris[['sepal_width']].collect(), c=df_iris[['variety_num']].collect())"
   ]
  },
  {
   "cell_type": "markdown",
   "metadata": {
    "colab_type": "text",
    "id": "OlNbmAsWQUVy"
   },
   "source": [
    "## Выведите по аналогии график petal_length и petal_width, так же раскрашенный по типам цветков"
   ]
  },
  {
   "cell_type": "code",
   "execution_count": 13,
   "metadata": {
    "scrolled": true
   },
   "outputs": [
    {
     "data": {
      "text/plain": [
       "<matplotlib.collections.PathCollection at 0x1a4b68d0250>"
      ]
     },
     "execution_count": 13,
     "metadata": {},
     "output_type": "execute_result"
    },
    {
     "data": {
      "image/png": "[encoded data removed]",
      "text/plain": [
       "<Figure size 432x288 with 1 Axes>"
      ]
     },
     "metadata": {
      "needs_background": "light"
     },
     "output_type": "display_data"
    }
   ],
   "source": [
    "plt.scatter(df_iris[['petal_length']].collect(), df_iris[['petal_width']].collect(), c=df_iris[['variety_num']].collect())"
   ]
  },
  {
   "cell_type": "markdown",
   "metadata": {
    "colab_type": "text",
    "id": "A590TgXXQnpM"
   },
   "source": [
    "## Посмотрите внимательно на получившийся график и сформируйте правило вида ЕСЛИ ЗНАЧЕНИЕ ПАРАМЕТРА A < ЗНАЧЕНИЕ, ТО IRIS ОТНОСИТСЯ К КЛАССУ SETOSA - ИНАЧЕ К КАКОМУ-ТО ДРУГОМУ (НАЗОВЕМ, ЕГО НАПРИМЕР UNKNOWN)\n",
    "## При помощи команд withColumn, when, otherwise создайте в датафрейме новую колонку с таким предсказанием"
   ]
  },
  {
   "cell_type": "code",
   "execution_count": 14,
   "metadata": {
    "colab": {},
    "colab_type": "code",
    "executionInfo": {
     "elapsed": 80948,
     "status": "ok",
     "timestamp": 1597950615957,
     "user": {
      "displayName": "Алексей Кузьмин",
      "photoUrl": "",
      "userId": "13824739836143424630"
     },
     "user_tz": -180
    },
    "id": "FXmgBm7vRM1p"
   },
   "outputs": [],
   "source": [
    "from pyspark.sql.functions import when"
   ]
  },
  {
   "cell_type": "code",
   "execution_count": 16,
   "metadata": {
    "colab": {
     "base_uri": "https://localhost:8080/",
     "height": 204
    },
    "colab_type": "code",
    "executionInfo": {
     "elapsed": 805,
     "status": "ok",
     "timestamp": 1597931268404,
     "user": {
      "displayName": "Алексей Кузьмин",
      "photoUrl": "",
      "userId": "13824739836143424630"
     },
     "user_tz": -180
    },
    "id": "EsA4ofvxC00S",
    "outputId": "9e12388e-0e08-494b-e300-d1b4ee072c61"
   },
   "outputs": [
    {
     "name": "stdout",
     "output_type": "stream",
     "text": [
      "+------------+-----------+------------+-----------+-------+-----------+----------+\n",
      "|sepal_length|sepal_width|petal_length|petal_width|variety|variety_num|prediction|\n",
      "+------------+-----------+------------+-----------+-------+-----------+----------+\n",
      "|         5.1|        3.5|         1.4|        0.2| Setosa|          0|    Setosa|\n",
      "|         4.9|        3.0|         1.4|        0.2| Setosa|          0|    Setosa|\n",
      "|         4.7|        3.2|         1.3|        0.2| Setosa|          0|    Setosa|\n",
      "|         4.6|        3.1|         1.5|        0.2| Setosa|          0|    Setosa|\n",
      "|         5.0|        3.6|         1.4|        0.2| Setosa|          0|    Setosa|\n",
      "|         5.4|        3.9|         1.7|        0.4| Setosa|          0|    Setosa|\n",
      "|         4.6|        3.4|         1.4|        0.3| Setosa|          0|    Setosa|\n",
      "|         5.0|        3.4|         1.5|        0.2| Setosa|          0|    Setosa|\n",
      "|         4.4|        2.9|         1.4|        0.2| Setosa|          0|    Setosa|\n",
      "|         4.9|        3.1|         1.5|        0.1| Setosa|          0|    Setosa|\n",
      "|         5.4|        3.7|         1.5|        0.2| Setosa|          0|    Setosa|\n",
      "|         4.8|        3.4|         1.6|        0.2| Setosa|          0|    Setosa|\n",
      "|         4.8|        3.0|         1.4|        0.1| Setosa|          0|    Setosa|\n",
      "|         4.3|        3.0|         1.1|        0.1| Setosa|          0|    Setosa|\n",
      "|         5.8|        4.0|         1.2|        0.2| Setosa|          0|    Setosa|\n",
      "|         5.7|        4.4|         1.5|        0.4| Setosa|          0|    Setosa|\n",
      "|         5.4|        3.9|         1.3|        0.4| Setosa|          0|    Setosa|\n",
      "|         5.1|        3.5|         1.4|        0.3| Setosa|          0|    Setosa|\n",
      "|         5.7|        3.8|         1.7|        0.3| Setosa|          0|    Setosa|\n",
      "|         5.1|        3.8|         1.5|        0.3| Setosa|          0|    Setosa|\n",
      "+------------+-----------+------------+-----------+-------+-----------+----------+\n",
      "only showing top 20 rows\n",
      "\n"
     ]
    }
   ],
   "source": [
    "df_pred = df_iris.withColumn('prediction', when(df_iris.petal_length < 2, 'Setosa').otherwise('Unknown'))\n",
    "df_pred.show()"
   ]
  },
  {
   "cell_type": "markdown",
   "metadata": {
    "colab_type": "text",
    "id": "M1Pw0NZ0Rjxq"
   },
   "source": [
    "## Проверьте качество своего предсказания\n",
    "Для этого:\n",
    "1. Подсчитайте количество строк, где Вы предсказали класс Setosa и правильный класс был так же Setosa\n",
    "2. Подсчитайте количество строк, где Вы предскзали класс Setosa, а правильный класс был какой-то другой (воспользуйтесь оператором \"не равно\" - !=)"
   ]
  },
  {
   "cell_type": "code",
   "execution_count": 17,
   "metadata": {
    "colab": {
     "base_uri": "https://localhost:8080/",
     "height": 34
    },
    "colab_type": "code",
    "executionInfo": {
     "elapsed": 779,
     "status": "ok",
     "timestamp": 1597931323129,
     "user": {
      "displayName": "Алексей Кузьмин",
      "photoUrl": "",
      "userId": "13824739836143424630"
     },
     "user_tz": -180
    },
    "id": "BhGr7GoljSBy",
    "outputId": "50923e5a-fb49-4d61-9a1d-ac02f1ac8ba5"
   },
   "outputs": [
    {
     "data": {
      "text/plain": [
       "50"
      ]
     },
     "execution_count": 17,
     "metadata": {},
     "output_type": "execute_result"
    }
   ],
   "source": [
    "good_pred = df_pred.where((df_pred.variety == 'Setosa') & (df_pred.prediction == 'Setosa')).count()\n",
    "good_pred"
   ]
  },
  {
   "cell_type": "code",
   "execution_count": 18,
   "metadata": {
    "colab": {
     "base_uri": "https://localhost:8080/",
     "height": 34
    },
    "colab_type": "code",
    "executionInfo": {
     "elapsed": 737,
     "status": "ok",
     "timestamp": 1597931324935,
     "user": {
      "displayName": "Алексей Кузьмин",
      "photoUrl": "",
      "userId": "13824739836143424630"
     },
     "user_tz": -180
    },
    "id": "Mf-g88-dIGIi",
    "outputId": "e58cfe7e-bd12-44b7-8bcb-fd74bf1d0459"
   },
   "outputs": [
    {
     "data": {
      "text/plain": [
       "0"
      ]
     },
     "execution_count": 18,
     "metadata": {},
     "output_type": "execute_result"
    }
   ],
   "source": [
    "bad_pred = df_pred.where((df_pred.variety != 'Setosa') & (df_pred.prediction == 'Setosa')).count()\n",
    "bad_pred"
   ]
  },
  {
   "cell_type": "code",
   "execution_count": 19,
   "metadata": {
    "colab": {},
    "colab_type": "code",
    "id": "s6je2fP2IQJ2"
   },
   "outputs": [
    {
     "data": {
      "text/plain": [
       "1.0"
      ]
     },
     "execution_count": 19,
     "metadata": {},
     "output_type": "execute_result"
    }
   ],
   "source": [
    "quality = good_pred / (good_pred + bad_pred)\n",
    "quality"
   ]
  }
 ],
 "metadata": {
  "colab": {
   "collapsed_sections": [],
   "name": "Шаблон ДЗ.ipynb",
   "provenance": [
    {
     "file_id": "1BInsJ7EJo072FGWz_UzpAdhgSl59G8gg",
     "timestamp": 1597930296767
    }
   ]
  },
  "kernelspec": {
   "display_name": "Python 3",
   "language": "python",
   "name": "python3"
  },
  "language_info": {
   "codemirror_mode": {
    "name": "ipython",
    "version": 3
   },
   "file_extension": ".py",
   "mimetype": "text/x-python",
   "name": "python",
   "nbconvert_exporter": "python",
   "pygments_lexer": "ipython3",
   "version": "3.8.5"
  }
 },
 "nbformat": 4,
 "nbformat_minor": 1
}
