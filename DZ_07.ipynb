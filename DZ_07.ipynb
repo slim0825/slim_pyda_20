{
 "cells": [
  {
   "cell_type": "code",
   "execution_count": 57,
   "metadata": {},
   "outputs": [
    {
     "name": "stdout",
     "output_type": "stream",
     "text": [
      "СДР (специальные права заимствования)\n"
     ]
    }
   ],
   "source": [
    "###Задание 1\n",
    "\n",
    "import requests\n",
    "\n",
    "def max_currency():\n",
    "    r = requests.get('https://www.cbr-xml-daily.ru/daily_json.js')\n",
    "    valut = r.json()['Valute']\n",
    "    max_currency = 0\n",
    "    for i,line in enumerate (valut):\n",
    "        if valut[line]['Value'] > max_currency:\n",
    "            max_currency = valut[line]['Value']\n",
    "            name_currency = valut[line]['Name']\n",
    "    return name_currency\n",
    "\n",
    "print(max_currency())"
   ]
  },
  {
   "cell_type": "code",
   "execution_count": 782,
   "metadata": {},
   "outputs": [
    {
     "name": "stdout",
     "output_type": "stream",
     "text": [
      "Полная информация {'ID': 'R01375', 'NumCode': '156', 'CharCode': 'CNY', 'Nominal': 1, 'Name': 'Китайский юань', 'Value': 11.5559, 'Previous': 11.5569}\n",
      "Курс сейчас: 11.5559\n",
      "Разница курса валют: -0.001\n"
     ]
    }
   ],
   "source": [
    "###Задание 2\n",
    "\n",
    "class Rate:\n",
    "       \n",
    "    def __init__(self, format_ = 'value', diff = True):\n",
    "        self.format = format_\n",
    "        self.diff = diff\n",
    "        \n",
    "        \n",
    "    def exchange_rates(self):\n",
    "        \"\"\"\n",
    "        Возвращает ответ сервиса с информацией о валютах в виде:\n",
    "        \n",
    "        {\n",
    "             'CNY': \n",
    "            {'ID': 'R01375',\n",
    "             'NumCode': '156',\n",
    "             'CharCode': 'CNY',\n",
    "             'Nominal': 1,\n",
    "             'Name': 'Китайский юань',\n",
    "             'Value': 11.5569,\n",
    "             'Previous': 11.524\n",
    "            },\n",
    "            ...\n",
    "        }\n",
    "        \"\"\"\n",
    "        self.r = requests.get('https://www.cbr-xml-daily.ru/daily_json.js')\n",
    "        return self.r.json()['Valute']\n",
    "    \n",
    "    def make_format(self, currency):\n",
    "        \"\"\"\n",
    "        Возвращает информацию о валюте currency в двух вариантах:\n",
    "        - полная информация о валюте при self.format = 'full':\n",
    "        Rate('full').make_format('CNY')\n",
    "        {\n",
    "              'CNY': \n",
    "              'ID': 'R01375',\n",
    "              'NumCode': '156',\n",
    "              'CharCode': 'CNY',\n",
    "              'Nominal': 1,\n",
    "              'Name': 'Китайский юань',\n",
    "              'Value': 11.5569,\n",
    "              'Previous': 11.524\n",
    "        }\n",
    "        \n",
    "        Rate('value').make_format('CNY')\n",
    "        11.5569\n",
    "        \"\"\"\n",
    "        response = self.exchange_rates()\n",
    "        \n",
    "        if currency in response:\n",
    "            if self.format == 'full':\n",
    "                return response[currency]\n",
    "            \n",
    "            if self.format == 'value':\n",
    "                return response[currency]['Value']\n",
    "          \n",
    "            if self.format == 'diff':\n",
    "                Value = response[currency]['Value']\n",
    "                Previous = response[currency]['Previous']\n",
    "            return Value - Previous\n",
    "        else:\n",
    "            return Value\n",
    "            \n",
    "         \n",
    "            \n",
    "        return 'Error'\n",
    "    \n",
    "    def usd(self):\n",
    "        return self.make_format('USD')   ### Выводит курс доллара на сегодня в формате self.format\n",
    "    \n",
    "    def eur(self):\n",
    "        return self.make_format('EUR')   ### Выводит курс евро на сегодня в формате self.format\n",
    "    \n",
    "    def cny(self):\n",
    "        return self.make_format('CNY')   ### Выводит курс китайского юаня на сегодня в формате self.format\n",
    "    \n",
    "a = Rate(format_='full')\n",
    "b = Rate(format_='value')\n",
    "c = Rate(format_ = 'diff')\n",
    "\n",
    "print('Полная информация', a.cny())\n",
    "print('Курс сейчас:', b.cny())\n",
    "print('Разница курса валют:', round(c.cny(), 4))"
   ]
  },
  {
   "cell_type": "code",
   "execution_count": 783,
   "metadata": {},
   "outputs": [],
   "source": [
    "###Задание 3\n",
    "\n",
    "class Employee:\n",
    "    def __init__(self, name, seniority):\n",
    "        self.name = name\n",
    "        self.seniority = seniority\n",
    "        self.grade = 1    \n",
    "    \n",
    "    def grade_up(self):\n",
    "        self.grade += 1       ### Повышает уровень сотрудника\n",
    "    \n",
    "    def publish_grade(self):\n",
    "        print(self.name, self.grade)    ### Выводит результаты аккредитации сотрудников\n",
    "        \n",
    "    def check_if_it_is_time_for_upgrade(self):\n",
    "        pass\n",
    "    \n",
    "class Designer(Employee):\n",
    "    def __init__(self, name):\n",
    "        super().__init__(name, 0)\n",
    "        self.points = 4\n",
    "    \n",
    "    def add_awards(self):\n",
    "        self.points += 2\n",
    "        if self.points >= 7:\n",
    "            self.grade += 1\n",
    "            self.points -= 7"
   ]
  },
  {
   "cell_type": "code",
   "execution_count": 784,
   "metadata": {},
   "outputs": [
    {
     "name": "stdout",
     "output_type": "stream",
     "text": [
      "Иван 1\n",
      "Иван 2\n",
      "Иван 2\n",
      "Иван 2\n",
      "Иван 3\n",
      "Иван 3\n",
      "Иван 3\n",
      "Иван 3\n",
      "Иван 4\n",
      "Иван 4\n",
      "Иван 4\n",
      "Иван 5\n",
      "Иван 5\n",
      "Иван 5\n",
      "Иван 5\n",
      "Иван 6\n",
      "Иван 6\n",
      "Иван 6\n",
      "Иван 7\n",
      "Иван 7\n"
     ]
    }
   ],
   "source": [
    "ivan = Designer('Иван')\n",
    "for i in range(20):\n",
    "    ivan.add_awards()\n",
    "    ivan.publish_grade()"
   ]
  }
 ],
 "metadata": {
  "kernelspec": {
   "display_name": "Python 3",
   "language": "python",
   "name": "python3"
  },
  "language_info": {
   "codemirror_mode": {
    "name": "ipython",
    "version": 3
   },
   "file_extension": ".py",
   "mimetype": "text/x-python",
   "name": "python",
   "nbconvert_exporter": "python",
   "pygments_lexer": "ipython3",
   "version": "3.8.5"
  }
 },
 "nbformat": 4,
 "nbformat_minor": 4
}
