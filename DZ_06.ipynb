{
 "cells": [
  {
   "cell_type": "code",
   "execution_count": 65,
   "metadata": {},
   "outputs": [],
   "source": [
    "### Задание 1\n",
    "\n",
    "from datetime import datetime\n",
    "\n",
    "The_Moscow_Times = 'Wednesday, October 2, 2002'\n",
    "The_Guardian = 'Friday, 11.10.13'\n",
    "Daily_News = 'Thursday, 18 August 1977'\n",
    "\n",
    "moscow = datetime.strptime (The_Moscow_Times, '%A, %B %d, %Y')\n",
    "guardian = datetime.strptime(The_Guardian, '%A, %d.%m.%y') \n",
    "daily = datetime.strptime(Daily_News, '%A, %d %B %Y')"
   ]
  },
  {
   "cell_type": "code",
   "execution_count": 66,
   "metadata": {},
   "outputs": [
    {
     "name": "stdout",
     "output_type": "stream",
     "text": [
      "2018-04-02 True\n",
      "2018-02-29 False\n",
      "2018-19-02 False\n"
     ]
    }
   ],
   "source": [
    "### Задание 2\n",
    "\n",
    "stream = ['2018-04-02', '2018-02-29', '2018-19-02']\n",
    "\n",
    "def dates(list):\n",
    "    for day in list:\n",
    "        try:\n",
    "            day = datetime.strptime(day, '%Y-%m-%d')\n",
    "            day = datetime.strftime(day, '%Y-%m-%d')\n",
    "            print(day, True)\n",
    "        except:\n",
    "            print(day, False)\n",
    "dates(stream)"
   ]
  },
  {
   "cell_type": "code",
   "execution_count": 67,
   "metadata": {},
   "outputs": [
    {
     "data": {
      "text/plain": [
       "[]"
      ]
     },
     "execution_count": 67,
     "metadata": {},
     "output_type": "execute_result"
    }
   ],
   "source": [
    "### Задание 3\n",
    "\n",
    "from datetime import timedelta\n",
    "\n",
    "def date_range(start_date,end_date):\n",
    "    list = []\n",
    "    try:\n",
    "        date_1 = datetime.strptime(start_date, '%Y-%m-%d')\n",
    "        date_2 = datetime.strptime(end_date, '%Y-%m-%d')\n",
    "        i = date_1 \n",
    "        while i <= date_2:\n",
    "            list.append(i.strftime('%Y-%m-%d'))\n",
    "            i += timedelta(days=1)\n",
    "        return list\n",
    "    except:\n",
    "        return list\n",
    "\n",
    "date_range('2021-04-01','2020-04-51')"
   ]
  }
 ],
 "metadata": {
  "kernelspec": {
   "display_name": "Python 3",
   "language": "python",
   "name": "python3"
  },
  "language_info": {
   "codemirror_mode": {
    "name": "ipython",
    "version": 3
   },
   "file_extension": ".py",
   "mimetype": "text/x-python",
   "name": "python",
   "nbconvert_exporter": "python",
   "pygments_lexer": "ipython3",
   "version": "3.8.5"
  }
 },
 "nbformat": 4,
 "nbformat_minor": 4
}
