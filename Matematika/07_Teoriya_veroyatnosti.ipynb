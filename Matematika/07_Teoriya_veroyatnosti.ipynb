{
 "cells": [
  {
   "cell_type": "code",
   "execution_count": 5,
   "metadata": {},
   "outputs": [],
   "source": [
    "import math\n",
    "import numpy as np\n",
    "import matplotlib.pyplot as plt"
   ]
  },
  {
   "cell_type": "markdown",
   "metadata": {},
   "source": [
    "### Уровень 0:   \n",
    "   \n",
    "Задание 1:   \n",
    "Монетку подбрасывают 15 раз, найдите вероятность выпадения простого числа орлов.   \n",
    "   \n",
    "Задание 2:   \n",
    "Создайте свою дискретную случайную величину с не менее, чем 10 значениями. Просемплируйте 1000 случайных значений, постройте гистограмму плотности распределения по выборке, посчитайте среднее, дисперсию и медиану."
   ]
  },
  {
   "cell_type": "code",
   "execution_count": 109,
   "metadata": {},
   "outputs": [
    {
     "name": "stdout",
     "output_type": "stream",
     "text": [
      "Вероятность выпадения простого числа орлов - 0.3499755859375\n"
     ]
    }
   ],
   "source": [
    "s = [2, 3, 5, 7, 11, 13] ### Простые числа до 15\n",
    "n = 15\n",
    "p = 0\n",
    "for k in s:\n",
    "    C = math.factorial(n)/(math.factorial(k)*math.factorial(n - k))\n",
    "    p += C * (0.5**n)\n",
    "print(f\"Вероятность выпадения простого числа орлов - {p}\")"
   ]
  },
  {
   "cell_type": "code",
   "execution_count": 110,
   "metadata": {
    "scrolled": false
   },
   "outputs": [
    {
     "name": "stdout",
     "output_type": "stream",
     "text": [
      "Среднее значение = -0.7782828282828282\n",
      "Медиана = -1.0\n",
      "Дисперсия = 33.73619503111927\n"
     ]
    },
    {
     "data": {
      "text/plain": [
       "(array([106., 116.,  98., 109., 104., 104., 102., 100., 107., 102.,  75.,\n",
       "        108.,  75.,  99.,  99.,  83., 100., 108., 109.,  76.]),\n",
       " array([-10.  ,  -9.05,  -8.1 ,  -7.15,  -6.2 ,  -5.25,  -4.3 ,  -3.35,\n",
       "         -2.4 ,  -1.45,  -0.5 ,   0.45,   1.4 ,   2.35,   3.3 ,   4.25,\n",
       "          5.2 ,   6.15,   7.1 ,   8.05,   9.  ]),\n",
       " <BarContainer object of 20 artists>)"
      ]
     },
     "execution_count": 110,
     "metadata": {},
     "output_type": "execute_result"
    },
    {
     "data": {
      "image/png": "[encoded data removed]",
      "text/plain": [
       "<Figure size 432x288 with 1 Axes>"
      ]
     },
     "metadata": {
      "needs_background": "light"
     },
     "output_type": "display_data"
    }
   ],
   "source": [
    "L = []\n",
    "for i in range (1, 100):\n",
    "    lst = np.random.randint(-10, 10, 20)\n",
    "    L.extend(lst)\n",
    "    \n",
    "print(f\"Среднее значение = {np.mean(L)}\")\n",
    "print(f\"Медиана = {np.median(L)}\")\n",
    "print(f\"Дисперсия = {np.var(L)}\")\n",
    "\n",
    "plt.hist(L, alpha=0.6, bins = 20)"
   ]
  },
  {
   "cell_type": "markdown",
   "metadata": {},
   "source": [
    "### Уровень 1: \n",
    "   \n",
    "Задание 3:   \n",
    "Пусть брошены 3 уравновешенные монеты.   \n",
    "   \n",
    "Рассмотрим 3 события:   \n",
    "   \n",
    "A1 - монеты 1 и 2 упали одной и той же стороной;\n",
    "   \n",
    "A2 - монеты 2 и 3 упали одной и той же стороной;\n",
    "   \n",
    "A3 - монеты 1 и 3 упали одной и той же стороной.\n",
    "   \n",
    "Покажите, почему эти 3 события (A1, A2, A3) являются попарно независимыми, но не являются независимыми в совокупности.\n",
    "   \n",
    "Задание 4 (формула полной вероятности):   \n",
    "В магазин привезли устройства с 3-х разных предприятий.   \n",
    "   \n",
    "Соотношение устройств следующее: 20% - продукция первого предприятия, 30% - продукция второго предприятия, 50% - продукция третьего предприятия; далее, 10% продукции первого предприятия высшего сорта, на втором предприятии - 5% и на третьем - 20% продукции высшего сорта.\n",
    "   \n",
    "Найти вероятность того, что случайно купленная новая продукция окажется высшего сорта."
   ]
  },
  {
   "cell_type": "code",
   "execution_count": 111,
   "metadata": {},
   "outputs": [
    {
     "name": "stdout",
     "output_type": "stream",
     "text": [
      "0.0625 0.0625 0.0625\n",
      "0.000244140625\n"
     ]
    }
   ],
   "source": [
    "### Вероятность, что монета упала нужной стороной 0.5\n",
    "### Вероятность событиий А1, A2, A3:\n",
    "PA1 = PA2 = PA3 = 0.5 * 0.5\n",
    "### Совместная независимость\n",
    "PA1A2 = PA1*PA2\n",
    "PA2A3 = PA2*PA3\n",
    "PA1A3 = PA1*PA3\n",
    "print(PA1A2, PA2A3, PA1A3)\n",
    "### Если все 3 совместно независимы, то PA1A2A3 = PA1A2*PA2A3*PA1A3 = PA1PA2\n",
    "PA1A2A3 = PA1A2*PA2A3*PA1A3\n",
    "print(PA1A2A3)"
   ]
  },
  {
   "cell_type": "code",
   "execution_count": 112,
   "metadata": {},
   "outputs": [
    {
     "name": "stdout",
     "output_type": "stream",
     "text": [
      "Вероятность случайной покупки продукции высшего сорта = 0.135\n"
     ]
    }
   ],
   "source": [
    "### Пусть событие А - покупка продукции высшего сорта. Тогда событие В - купленна продукция с данного предприятия.\n",
    "### Тогда АВ - вероятность производства продукции высшего качества на каждом предприятии\n",
    "B1 = 0.2\n",
    "АB1 = 0.1\n",
    "B2 = 0.3\n",
    "АB2 = 0.05\n",
    "B3 = 0.5\n",
    "АB3 = 0.2\n",
    "\n",
    "А = B1 * АB1 +  B2 * АB2 + B3 * АB3\n",
    "\n",
    "print(f\"Вероятность случайной покупки продукции высшего сорта = {А}\")"
   ]
  }
 ],
 "metadata": {
  "kernelspec": {
   "display_name": "Python 3",
   "language": "python",
   "name": "python3"
  },
  "language_info": {
   "codemirror_mode": {
    "name": "ipython",
    "version": 3
   },
   "file_extension": ".py",
   "mimetype": "text/x-python",
   "name": "python",
   "nbconvert_exporter": "python",
   "pygments_lexer": "ipython3",
   "version": "3.8.5"
  }
 },
 "nbformat": 4,
 "nbformat_minor": 4
}
