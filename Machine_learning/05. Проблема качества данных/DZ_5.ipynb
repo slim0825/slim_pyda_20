{
 "cells": [
  {
   "cell_type": "code",
   "execution_count": 1,
   "metadata": {},
   "outputs": [],
   "source": [
    "import numpy as np\n",
    "import pandas as pd\n",
    "import seaborn as sns\n",
    "\n",
    "import random\n",
    "from sklearn.linear_model import LinearRegression\n",
    "from sklearn.metrics import mean_absolute_error"
   ]
  },
  {
   "cell_type": "code",
   "execution_count": 2,
   "metadata": {
    "scrolled": true
   },
   "outputs": [
    {
     "data": {
      "text/html": [
       "<div>\n",
       "<style scoped>\n",
       "    .dataframe tbody tr th:only-of-type {\n",
       "        vertical-align: middle;\n",
       "    }\n",
       "\n",
       "    .dataframe tbody tr th {\n",
       "        vertical-align: top;\n",
       "    }\n",
       "\n",
       "    .dataframe thead th {\n",
       "        text-align: right;\n",
       "    }\n",
       "</style>\n",
       "<table border=\"1\" class=\"dataframe\">\n",
       "  <thead>\n",
       "    <tr style=\"text-align: right;\">\n",
       "      <th></th>\n",
       "      <th>year</th>\n",
       "      <th>runtime</th>\n",
       "      <th>viewers, mln</th>\n",
       "      <th>average_ticket_price, $</th>\n",
       "      <th>ratings</th>\n",
       "    </tr>\n",
       "  </thead>\n",
       "  <tbody>\n",
       "    <tr>\n",
       "      <th>0</th>\n",
       "      <td>2020</td>\n",
       "      <td>106</td>\n",
       "      <td>185</td>\n",
       "      <td>16</td>\n",
       "      <td>139</td>\n",
       "    </tr>\n",
       "    <tr>\n",
       "      <th>1</th>\n",
       "      <td>2019</td>\n",
       "      <td>70</td>\n",
       "      <td>144</td>\n",
       "      <td>11</td>\n",
       "      <td>77</td>\n",
       "    </tr>\n",
       "    <tr>\n",
       "      <th>2</th>\n",
       "      <td>2017</td>\n",
       "      <td>142</td>\n",
       "      <td>44</td>\n",
       "      <td>17</td>\n",
       "      <td>57</td>\n",
       "    </tr>\n",
       "    <tr>\n",
       "      <th>3</th>\n",
       "      <td>2017</td>\n",
       "      <td>141</td>\n",
       "      <td>72</td>\n",
       "      <td>29</td>\n",
       "      <td>111</td>\n",
       "    </tr>\n",
       "    <tr>\n",
       "      <th>4</th>\n",
       "      <td>2017</td>\n",
       "      <td>138</td>\n",
       "      <td>9</td>\n",
       "      <td>15</td>\n",
       "      <td>32</td>\n",
       "    </tr>\n",
       "  </tbody>\n",
       "</table>\n",
       "</div>"
      ],
      "text/plain": [
       "   year  runtime  viewers, mln  average_ticket_price, $  ratings\n",
       "0  2020      106           185                       16      139\n",
       "1  2019       70           144                       11       77\n",
       "2  2017      142            44                       17       57\n",
       "3  2017      141            72                       29      111\n",
       "4  2017      138             9                       15       32"
      ]
     },
     "execution_count": 2,
     "metadata": {},
     "output_type": "execute_result"
    }
   ],
   "source": [
    "n_samples = 1000\n",
    "\n",
    "year = np.random.randint(2016, 2021, n_samples) #год выпуска фильма\n",
    "runtime =  np.random.randint(60, 180, n_samples) #продолжительность фильма\n",
    "viewers = np.random.choice(200, n_samples) #количество просмотров в миллионах\n",
    "average_ticket_price = np.random.randint(10, 30, n_samples) #средняя стоимость просмотра в кинотеатре\n",
    "\n",
    "box_office = viewers * average_ticket_price # пусть рейтинг зависит не от стоимости билета напрямую, а от суммарной прибыли за фильм\n",
    "\n",
    "ratings = runtime // 5 + box_office // 25 #пусть рейтинг фильма определяется по формуле, причем от года выпуска оценка зависеть не будет\n",
    "\n",
    "data = pd.DataFrame({'year': year,'runtime': runtime,'viewers, mln': viewers, 'average_ticket_price, $': average_ticket_price, 'ratings':ratings})\n",
    "data.head()"
   ]
  },
  {
   "cell_type": "code",
   "execution_count": 3,
   "metadata": {
    "scrolled": true
   },
   "outputs": [
    {
     "name": "stdout",
     "output_type": "stream",
     "text": [
      "<class 'pandas.core.frame.DataFrame'>\n",
      "RangeIndex: 1000 entries, 0 to 999\n",
      "Data columns (total 5 columns):\n",
      " #   Column                   Non-Null Count  Dtype\n",
      "---  ------                   --------------  -----\n",
      " 0   year                     1000 non-null   int32\n",
      " 1   runtime                  1000 non-null   int32\n",
      " 2   viewers, mln             1000 non-null   int32\n",
      " 3   average_ticket_price, $  1000 non-null   int32\n",
      " 4   ratings                  1000 non-null   int32\n",
      "dtypes: int32(5)\n",
      "memory usage: 19.7 KB\n"
     ]
    }
   ],
   "source": [
    "data.info()"
   ]
  },
  {
   "cell_type": "markdown",
   "metadata": {},
   "source": [
    "#### Попробуем построить модель на основе всех признаков"
   ]
  },
  {
   "cell_type": "code",
   "execution_count": 30,
   "metadata": {},
   "outputs": [
    {
     "name": "stdout",
     "output_type": "stream",
     "text": [
      "Weights: [0.33137434 0.19485299 0.77966118 3.92135994]\n",
      "Bias: -744.8213259806247\n",
      "Error: 9.771368764229978\n"
     ]
    }
   ],
   "source": [
    "X = data[['year', 'runtime', 'viewers, mln',  'average_ticket_price, $']]\n",
    "y = data['ratings']\n",
    "\n",
    "reg = LinearRegression().fit(X, y)\n",
    "print('Weights: {}'.format(reg.coef_))\n",
    "print('Bias: {}'.format(reg.intercept_))\n",
    "pred_values = reg.predict(data[['year', 'runtime', 'viewers, mln',  'average_ticket_price, $']])\n",
    "print('Error: {}'.format(mean_absolute_error(pred_values, y)))"
   ]
  },
  {
   "cell_type": "markdown",
   "metadata": {},
   "source": [
    "#### Введем новый признак Box-office и заменим им в модели признаки средней стоимости и количества зрителей."
   ]
  },
  {
   "cell_type": "code",
   "execution_count": 31,
   "metadata": {},
   "outputs": [
    {
     "data": {
      "text/html": [
       "<div>\n",
       "<style scoped>\n",
       "    .dataframe tbody tr th:only-of-type {\n",
       "        vertical-align: middle;\n",
       "    }\n",
       "\n",
       "    .dataframe tbody tr th {\n",
       "        vertical-align: top;\n",
       "    }\n",
       "\n",
       "    .dataframe thead th {\n",
       "        text-align: right;\n",
       "    }\n",
       "</style>\n",
       "<table border=\"1\" class=\"dataframe\">\n",
       "  <thead>\n",
       "    <tr style=\"text-align: right;\">\n",
       "      <th></th>\n",
       "      <th>year</th>\n",
       "      <th>runtime</th>\n",
       "      <th>viewers, mln</th>\n",
       "      <th>average_ticket_price, $</th>\n",
       "      <th>ratings</th>\n",
       "      <th>box_office</th>\n",
       "    </tr>\n",
       "  </thead>\n",
       "  <tbody>\n",
       "    <tr>\n",
       "      <th>0</th>\n",
       "      <td>2020</td>\n",
       "      <td>146</td>\n",
       "      <td>140</td>\n",
       "      <td>17</td>\n",
       "      <td>124</td>\n",
       "      <td>2380</td>\n",
       "    </tr>\n",
       "    <tr>\n",
       "      <th>1</th>\n",
       "      <td>2019</td>\n",
       "      <td>104</td>\n",
       "      <td>53</td>\n",
       "      <td>24</td>\n",
       "      <td>70</td>\n",
       "      <td>1272</td>\n",
       "    </tr>\n",
       "    <tr>\n",
       "      <th>2</th>\n",
       "      <td>2017</td>\n",
       "      <td>137</td>\n",
       "      <td>97</td>\n",
       "      <td>17</td>\n",
       "      <td>92</td>\n",
       "      <td>1649</td>\n",
       "    </tr>\n",
       "    <tr>\n",
       "      <th>3</th>\n",
       "      <td>2016</td>\n",
       "      <td>83</td>\n",
       "      <td>29</td>\n",
       "      <td>27</td>\n",
       "      <td>47</td>\n",
       "      <td>783</td>\n",
       "    </tr>\n",
       "    <tr>\n",
       "      <th>4</th>\n",
       "      <td>2020</td>\n",
       "      <td>117</td>\n",
       "      <td>165</td>\n",
       "      <td>15</td>\n",
       "      <td>122</td>\n",
       "      <td>2475</td>\n",
       "    </tr>\n",
       "  </tbody>\n",
       "</table>\n",
       "</div>"
      ],
      "text/plain": [
       "   year  runtime  viewers, mln  average_ticket_price, $  ratings  box_office\n",
       "0  2020      146           140                       17      124        2380\n",
       "1  2019      104            53                       24       70        1272\n",
       "2  2017      137            97                       17       92        1649\n",
       "3  2016       83            29                       27       47         783\n",
       "4  2020      117           165                       15      122        2475"
      ]
     },
     "execution_count": 31,
     "metadata": {},
     "output_type": "execute_result"
    }
   ],
   "source": [
    "data['box_office'] = data['viewers, mln'] * data['average_ticket_price, $']\n",
    "data.head(5)"
   ]
  },
  {
   "cell_type": "code",
   "execution_count": 32,
   "metadata": {},
   "outputs": [
    {
     "name": "stdout",
     "output_type": "stream",
     "text": [
      "Weights: [-0.00390497  0.19946187  0.03998821]\n",
      "Bias: 7.144828358358708\n",
      "Error: 0.33622354123395554\n"
     ]
    }
   ],
   "source": [
    "X = data[['year', 'runtime', 'box_office']]\n",
    "y = data['ratings']\n",
    "\n",
    "reg = LinearRegression().fit(X, y)\n",
    "print('Weights: {}'.format(reg.coef_))\n",
    "print('Bias: {}'.format(reg.intercept_))\n",
    "pred_values = reg.predict(data[['year', 'runtime', 'box_office']])\n",
    "print('Error: {}'.format(mean_absolute_error(pred_values, y)))"
   ]
  },
  {
   "cell_type": "markdown",
   "metadata": {},
   "source": [
    "#### Отбросим первый признак с наименьшим весом"
   ]
  },
  {
   "cell_type": "code",
   "execution_count": 33,
   "metadata": {},
   "outputs": [
    {
     "name": "stdout",
     "output_type": "stream",
     "text": [
      "Weights: [0.19945694 0.03998826]\n",
      "Bias: -0.7350490792802447\n",
      "Error: 0.33635049220170526\n"
     ]
    }
   ],
   "source": [
    "X = data[['runtime', 'box_office']]\n",
    "y = data['ratings']\n",
    "reg = LinearRegression().fit(X, y)\n",
    "\n",
    "print('Weights: {}'.format(reg.coef_))\n",
    "print('Bias: {}'.format(reg.intercept_))\n",
    "pred_values = reg.predict(data[['runtime', 'box_office']])\n",
    "print('Error: {}'.format(mean_absolute_error(pred_values, y)))"
   ]
  }
 ],
 "metadata": {
  "kernelspec": {
   "display_name": "Python 3",
   "language": "python",
   "name": "python3"
  },
  "language_info": {
   "codemirror_mode": {
    "name": "ipython",
    "version": 3
   },
   "file_extension": ".py",
   "mimetype": "text/x-python",
   "name": "python",
   "nbconvert_exporter": "python",
   "pygments_lexer": "ipython3",
   "version": "3.8.5"
  }
 },
 "nbformat": 4,
 "nbformat_minor": 4
}
